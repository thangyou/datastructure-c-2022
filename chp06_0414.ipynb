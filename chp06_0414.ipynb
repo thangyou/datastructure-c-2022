{
  "nbformat": 4,
  "nbformat_minor": 0,
  "metadata": {
    "colab": {
      "provenance": [],
      "authorship_tag": "ABX9TyM41GJ01WQce68j81vd8Gdz"
    },
    "kernelspec": {
      "name": "python3",
      "display_name": "Python 3"
    },
    "language_info": {
      "name": "python"
    }
  },
  "cells": [
    {
      "cell_type": "markdown",
      "source": [
        " **chp05_0406.ipynb ~ 이어서 해야함 !**\n",
        "\n",
        " 1. gdrive mount(데이터 업로드)\n",
        " 2. 데이터 폴더로 이동(데이터 불러오기 pandas)\n",
        " 3. 데이터 전처리(수치화 & 정규화)\n",
        " 4. 완전연결 네트워크 구성\n",
        " 5. 학습\n",
        " 6. 테스트(예측)\n",
        " 7. 결과 upload"
      ],
      "metadata": {
        "id": "swJAxy4tW89_"
      }
    },
    {
      "cell_type": "markdown",
      "source": [
        "# 환경 설정\n"
      ],
      "metadata": {
        "id": "QA5TPRXDXLOS"
      }
    },
    {
      "cell_type": "code",
      "source": [
        "from google.colab import files  # 파일 업로드를 위한 라이브러리 사용 선언\n",
        "from google.colab import drive  # 구글 드라이브를 위한 라이브러리 사용 선언"
      ],
      "metadata": {
        "id": "TYntDaVFVgII"
      },
      "execution_count": null,
      "outputs": []
    },
    {
      "cell_type": "code",
      "source": [
        "files.upload()  # 파일 업로드 실행"
      ],
      "metadata": {
        "colab": {
          "base_uri": "https://localhost:8080/",
          "height": 94
        },
        "id": "oELSw_oFVj7w",
        "outputId": "234ab62d-8487-4bc3-b704-de0238bf93b1"
      },
      "execution_count": null,
      "outputs": [
        {
          "output_type": "display_data",
          "data": {
            "text/plain": [
              "<IPython.core.display.HTML object>"
            ],
            "text/html": [
              "\n",
              "     <input type=\"file\" id=\"files-7d6fc6e4-2e3d-436a-9d30-0f8f80e123f7\" name=\"files[]\" multiple disabled\n",
              "        style=\"border:none\" />\n",
              "     <output id=\"result-7d6fc6e4-2e3d-436a-9d30-0f8f80e123f7\">\n",
              "      Upload widget is only available when the cell has been executed in the\n",
              "      current browser session. Please rerun this cell to enable.\n",
              "      </output>\n",
              "      <script>// Copyright 2017 Google LLC\n",
              "//\n",
              "// Licensed under the Apache License, Version 2.0 (the \"License\");\n",
              "// you may not use this file except in compliance with the License.\n",
              "// You may obtain a copy of the License at\n",
              "//\n",
              "//      http://www.apache.org/licenses/LICENSE-2.0\n",
              "//\n",
              "// Unless required by applicable law or agreed to in writing, software\n",
              "// distributed under the License is distributed on an \"AS IS\" BASIS,\n",
              "// WITHOUT WARRANTIES OR CONDITIONS OF ANY KIND, either express or implied.\n",
              "// See the License for the specific language governing permissions and\n",
              "// limitations under the License.\n",
              "\n",
              "/**\n",
              " * @fileoverview Helpers for google.colab Python module.\n",
              " */\n",
              "(function(scope) {\n",
              "function span(text, styleAttributes = {}) {\n",
              "  const element = document.createElement('span');\n",
              "  element.textContent = text;\n",
              "  for (const key of Object.keys(styleAttributes)) {\n",
              "    element.style[key] = styleAttributes[key];\n",
              "  }\n",
              "  return element;\n",
              "}\n",
              "\n",
              "// Max number of bytes which will be uploaded at a time.\n",
              "const MAX_PAYLOAD_SIZE = 100 * 1024;\n",
              "\n",
              "function _uploadFiles(inputId, outputId) {\n",
              "  const steps = uploadFilesStep(inputId, outputId);\n",
              "  const outputElement = document.getElementById(outputId);\n",
              "  // Cache steps on the outputElement to make it available for the next call\n",
              "  // to uploadFilesContinue from Python.\n",
              "  outputElement.steps = steps;\n",
              "\n",
              "  return _uploadFilesContinue(outputId);\n",
              "}\n",
              "\n",
              "// This is roughly an async generator (not supported in the browser yet),\n",
              "// where there are multiple asynchronous steps and the Python side is going\n",
              "// to poll for completion of each step.\n",
              "// This uses a Promise to block the python side on completion of each step,\n",
              "// then passes the result of the previous step as the input to the next step.\n",
              "function _uploadFilesContinue(outputId) {\n",
              "  const outputElement = document.getElementById(outputId);\n",
              "  const steps = outputElement.steps;\n",
              "\n",
              "  const next = steps.next(outputElement.lastPromiseValue);\n",
              "  return Promise.resolve(next.value.promise).then((value) => {\n",
              "    // Cache the last promise value to make it available to the next\n",
              "    // step of the generator.\n",
              "    outputElement.lastPromiseValue = value;\n",
              "    return next.value.response;\n",
              "  });\n",
              "}\n",
              "\n",
              "/**\n",
              " * Generator function which is called between each async step of the upload\n",
              " * process.\n",
              " * @param {string} inputId Element ID of the input file picker element.\n",
              " * @param {string} outputId Element ID of the output display.\n",
              " * @return {!Iterable<!Object>} Iterable of next steps.\n",
              " */\n",
              "function* uploadFilesStep(inputId, outputId) {\n",
              "  const inputElement = document.getElementById(inputId);\n",
              "  inputElement.disabled = false;\n",
              "\n",
              "  const outputElement = document.getElementById(outputId);\n",
              "  outputElement.innerHTML = '';\n",
              "\n",
              "  const pickedPromise = new Promise((resolve) => {\n",
              "    inputElement.addEventListener('change', (e) => {\n",
              "      resolve(e.target.files);\n",
              "    });\n",
              "  });\n",
              "\n",
              "  const cancel = document.createElement('button');\n",
              "  inputElement.parentElement.appendChild(cancel);\n",
              "  cancel.textContent = 'Cancel upload';\n",
              "  const cancelPromise = new Promise((resolve) => {\n",
              "    cancel.onclick = () => {\n",
              "      resolve(null);\n",
              "    };\n",
              "  });\n",
              "\n",
              "  // Wait for the user to pick the files.\n",
              "  const files = yield {\n",
              "    promise: Promise.race([pickedPromise, cancelPromise]),\n",
              "    response: {\n",
              "      action: 'starting',\n",
              "    }\n",
              "  };\n",
              "\n",
              "  cancel.remove();\n",
              "\n",
              "  // Disable the input element since further picks are not allowed.\n",
              "  inputElement.disabled = true;\n",
              "\n",
              "  if (!files) {\n",
              "    return {\n",
              "      response: {\n",
              "        action: 'complete',\n",
              "      }\n",
              "    };\n",
              "  }\n",
              "\n",
              "  for (const file of files) {\n",
              "    const li = document.createElement('li');\n",
              "    li.append(span(file.name, {fontWeight: 'bold'}));\n",
              "    li.append(span(\n",
              "        `(${file.type || 'n/a'}) - ${file.size} bytes, ` +\n",
              "        `last modified: ${\n",
              "            file.lastModifiedDate ? file.lastModifiedDate.toLocaleDateString() :\n",
              "                                    'n/a'} - `));\n",
              "    const percent = span('0% done');\n",
              "    li.appendChild(percent);\n",
              "\n",
              "    outputElement.appendChild(li);\n",
              "\n",
              "    const fileDataPromise = new Promise((resolve) => {\n",
              "      const reader = new FileReader();\n",
              "      reader.onload = (e) => {\n",
              "        resolve(e.target.result);\n",
              "      };\n",
              "      reader.readAsArrayBuffer(file);\n",
              "    });\n",
              "    // Wait for the data to be ready.\n",
              "    let fileData = yield {\n",
              "      promise: fileDataPromise,\n",
              "      response: {\n",
              "        action: 'continue',\n",
              "      }\n",
              "    };\n",
              "\n",
              "    // Use a chunked sending to avoid message size limits. See b/62115660.\n",
              "    let position = 0;\n",
              "    do {\n",
              "      const length = Math.min(fileData.byteLength - position, MAX_PAYLOAD_SIZE);\n",
              "      const chunk = new Uint8Array(fileData, position, length);\n",
              "      position += length;\n",
              "\n",
              "      const base64 = btoa(String.fromCharCode.apply(null, chunk));\n",
              "      yield {\n",
              "        response: {\n",
              "          action: 'append',\n",
              "          file: file.name,\n",
              "          data: base64,\n",
              "        },\n",
              "      };\n",
              "\n",
              "      let percentDone = fileData.byteLength === 0 ?\n",
              "          100 :\n",
              "          Math.round((position / fileData.byteLength) * 100);\n",
              "      percent.textContent = `${percentDone}% done`;\n",
              "\n",
              "    } while (position < fileData.byteLength);\n",
              "  }\n",
              "\n",
              "  // All done.\n",
              "  yield {\n",
              "    response: {\n",
              "      action: 'complete',\n",
              "    }\n",
              "  };\n",
              "}\n",
              "\n",
              "scope.google = scope.google || {};\n",
              "scope.google.colab = scope.google.colab || {};\n",
              "scope.google.colab._files = {\n",
              "  _uploadFiles,\n",
              "  _uploadFilesContinue,\n",
              "};\n",
              "})(self);\n",
              "</script> "
            ]
          },
          "metadata": {}
        },
        {
          "output_type": "stream",
          "name": "stdout",
          "text": [
            "Saving kaggle.json to kaggle.json\n"
          ]
        },
        {
          "output_type": "execute_result",
          "data": {
            "text/plain": [
              "{'kaggle.json': b'{\"username\":\"yujeongyang\",\"key\":\"79d486c94ed039cf803293adca468b3c\"}'}"
            ]
          },
          "metadata": {},
          "execution_count": 9
        }
      ]
    },
    {
      "cell_type": "code",
      "source": [
        "!mkdir ~/.kaggle                      # 캐글 API 키를 넣을 폴더 생성\n",
        "!mv kaggle.json ~/.kaggle/            # 생성된 폴더에 키 복사\n",
        "!chmod 600 ~/.kaggle/*                # 폴더의 권한 조정\n",
        "drive.mount('/content/gdrive')        # 구글 드라이브를 /content/gdrive 폴더에 연결"
      ],
      "metadata": {
        "colab": {
          "base_uri": "https://localhost:8080/"
        },
        "id": "7pH3I8JFVobR",
        "outputId": "758f9eac-5db3-4938-bdc1-a745fd43efe9"
      },
      "execution_count": null,
      "outputs": [
        {
          "output_type": "stream",
          "name": "stdout",
          "text": [
            "Mounted at /content/gdrive\n"
          ]
        }
      ]
    },
    {
      "cell_type": "code",
      "source": [
        "cd '/content/gdrive/MyDrive/Colab Notebooks/titanic_data'"
      ],
      "metadata": {
        "colab": {
          "base_uri": "https://localhost:8080/"
        },
        "id": "QFaw8SYYV5_h",
        "outputId": "3d61a212-edfb-4bfc-be02-46388d284a69"
      },
      "execution_count": null,
      "outputs": [
        {
          "output_type": "stream",
          "name": "stdout",
          "text": [
            "/content/gdrive/MyDrive/Colab Notebooks/titanic_data\n"
          ]
        }
      ]
    },
    {
      "cell_type": "code",
      "source": [
        "!pwd\n",
        "# 작업 폴더 변경 확인"
      ],
      "metadata": {
        "id": "elniOB2BvBpc"
      },
      "execution_count": null,
      "outputs": []
    },
    {
      "cell_type": "code",
      "source": [
        "!kaggle competitions download -c titanic\n",
        "# 데이터 다운로드 받기"
      ],
      "metadata": {
        "id": "DBlJC-Z5vGvw"
      },
      "execution_count": null,
      "outputs": []
    },
    {
      "cell_type": "code",
      "source": [
        "import pandas as pd"
      ],
      "metadata": {
        "id": "gJUe7KdGV-Fd"
      },
      "execution_count": null,
      "outputs": []
    },
    {
      "cell_type": "code",
      "source": [
        "data_train = pd.read_csv('train.csv')\n",
        "data_test = pd.read_csv('test.csv')"
      ],
      "metadata": {
        "id": "JyM0DJpcWAHy"
      },
      "execution_count": null,
      "outputs": []
    },
    {
      "cell_type": "markdown",
      "source": [
        "# train 데이터 수치 및 정규화\n"
      ],
      "metadata": {
        "id": "HdXW5TGHVDOc"
      }
    },
    {
      "cell_type": "code",
      "source": [
        "import numpy as np\n",
        "data_len = data_train.shape[0]\n",
        "data_train_np = np.zeros([data_len,8])"
      ],
      "metadata": {
        "id": "RUNA4WMHJZOK"
      },
      "execution_count": null,
      "outputs": []
    },
    {
      "cell_type": "code",
      "source": [
        "data_len"
      ],
      "metadata": {
        "colab": {
          "base_uri": "https://localhost:8080/"
        },
        "id": "7TYzVxOEJw3T",
        "outputId": "4a37d8d6-e3d9-47d2-aec2-4d26b5783469"
      },
      "execution_count": null,
      "outputs": [
        {
          "output_type": "execute_result",
          "data": {
            "text/plain": [
              "891"
            ]
          },
          "metadata": {},
          "execution_count": 17
        }
      ]
    },
    {
      "cell_type": "code",
      "source": [
        "cnt = 0\n",
        "sex_num = np.zeros(data_len)\n",
        "for d in data_train['Sex']:\n",
        "  if(d=='female'):\n",
        "    sex_num[cnt] = 1\n",
        "  cnt += 1"
      ],
      "metadata": {
        "id": "GMNOGuKsOewS"
      },
      "execution_count": null,
      "outputs": []
    },
    {
      "cell_type": "code",
      "source": [
        "sex_num = np.zeros(data_len)\n",
        "for i, d in enumerate(data_train['Sex']):\n",
        "  if(d=='female'):\n",
        "    sex_num[i] = 1"
      ],
      "metadata": {
        "id": "jwmRTYxRJyix"
      },
      "execution_count": null,
      "outputs": []
    },
    {
      "cell_type": "code",
      "source": [
        "sex_num = np.zeros(data_len)\n",
        "sex_num[np.array(data_train['Sex']=='female')]=1"
      ],
      "metadata": {
        "id": "xI5N71r2LIHa"
      },
      "execution_count": null,
      "outputs": []
    },
    {
      "cell_type": "code",
      "source": [
        "sex_num.shape"
      ],
      "metadata": {
        "colab": {
          "base_uri": "https://localhost:8080/"
        },
        "id": "dbA1Z4XFKLrf",
        "outputId": "39c0cf86-e1d6-4b0f-9cbc-c3ae1f9b1a19"
      },
      "execution_count": null,
      "outputs": [
        {
          "output_type": "execute_result",
          "data": {
            "text/plain": [
              "(891,)"
            ]
          },
          "metadata": {},
          "execution_count": 21
        }
      ]
    },
    {
      "cell_type": "code",
      "source": [
        "from tensorflow.keras.utils import to_categorical"
      ],
      "metadata": {
        "id": "Jk1XL-7NKXA8"
      },
      "execution_count": null,
      "outputs": []
    },
    {
      "cell_type": "code",
      "source": [
        "data_train_np[:,0:2] = to_categorical(sex_num) # one-hot-encoding 적용"
      ],
      "metadata": {
        "id": "iiWI_zKALWbl"
      },
      "execution_count": null,
      "outputs": []
    },
    {
      "cell_type": "code",
      "source": [
        "data_train_np[:,0:2]"
      ],
      "metadata": {
        "colab": {
          "base_uri": "https://localhost:8080/"
        },
        "id": "uVxqt1HLP-Cx",
        "outputId": "c19c4e8f-9a4d-4cd5-80bb-3ff2a1960a26"
      },
      "execution_count": null,
      "outputs": [
        {
          "output_type": "execute_result",
          "data": {
            "text/plain": [
              "array([[1., 0.],\n",
              "       [0., 1.],\n",
              "       [0., 1.],\n",
              "       ...,\n",
              "       [0., 1.],\n",
              "       [1., 0.],\n",
              "       [1., 0.]])"
            ]
          },
          "metadata": {},
          "execution_count": 24
        }
      ]
    },
    {
      "cell_type": "code",
      "source": [
        "# to_numpy() -> numpy 배열로 변경\n",
        "# -1 ? -> to_numpy 결과로 Pclass가 1 ~ 4가 나옴.\n",
        "# 따라서 -1 을 해주고 0 ~ 2 가 나오도록 설정함.\n",
        "data_train_np[:,2:5] = to_categorical(data_train['Pclass'].to_numpy() - 1)"
      ],
      "metadata": {
        "id": "IKctGQ6gMRU4"
      },
      "execution_count": null,
      "outputs": []
    },
    {
      "cell_type": "code",
      "source": [
        "data_train_np[:,5] = data_train['Age']/80\n",
        "data_train_np[:,6] = data_train['SibSp']/10\n",
        "data_train_np[:,7] = data_train['Parch']/10"
      ],
      "metadata": {
        "id": "TIZTCuxbMToY"
      },
      "execution_count": null,
      "outputs": []
    },
    {
      "cell_type": "code",
      "source": [
        "data_train_np"
      ],
      "metadata": {
        "colab": {
          "base_uri": "https://localhost:8080/"
        },
        "id": "GoaIzlRENGGW",
        "outputId": "27e76d41-f4ac-49b8-a5db-9925abb3a7d0"
      },
      "execution_count": null,
      "outputs": [
        {
          "output_type": "execute_result",
          "data": {
            "text/plain": [
              "array([[1.   , 0.   , 0.   , ..., 0.275, 0.1  , 0.   ],\n",
              "       [0.   , 1.   , 1.   , ..., 0.475, 0.1  , 0.   ],\n",
              "       [0.   , 1.   , 0.   , ..., 0.325, 0.   , 0.   ],\n",
              "       ...,\n",
              "       [0.   , 1.   , 0.   , ...,   nan, 0.1  , 0.2  ],\n",
              "       [1.   , 0.   , 1.   , ..., 0.325, 0.   , 0.   ],\n",
              "       [1.   , 0.   , 0.   , ..., 0.4  , 0.   , 0.   ]])"
            ]
          },
          "metadata": {},
          "execution_count": 27
        }
      ]
    },
    {
      "cell_type": "code",
      "source": [
        "np.sum(np.isnan(data_train_np[:,5]))"
      ],
      "metadata": {
        "colab": {
          "base_uri": "https://localhost:8080/"
        },
        "id": "Qp0TKde_NHso",
        "outputId": "a8409d93-7bd9-48e2-883e-fc18b9146c05"
      },
      "execution_count": null,
      "outputs": [
        {
          "output_type": "execute_result",
          "data": {
            "text/plain": [
              "177"
            ]
          },
          "metadata": {},
          "execution_count": 28
        }
      ]
    },
    {
      "cell_type": "code",
      "source": [
        "data_train_np[np.isnan(data_train_np[:,5]),5] = 30/80"
      ],
      "metadata": {
        "id": "t23UyrzgR6L4"
      },
      "execution_count": null,
      "outputs": []
    },
    {
      "cell_type": "code",
      "source": [
        "data_train_np[5,:]"
      ],
      "metadata": {
        "colab": {
          "base_uri": "https://localhost:8080/"
        },
        "id": "_CUSzX-NSeP9",
        "outputId": "551671ea-2c9e-4ada-f9d9-a232e2d3fcd9"
      },
      "execution_count": null,
      "outputs": [
        {
          "output_type": "execute_result",
          "data": {
            "text/plain": [
              "array([1.   , 0.   , 0.   , 0.   , 1.   , 0.375, 0.   , 0.   ])"
            ]
          },
          "metadata": {},
          "execution_count": 30
        }
      ]
    },
    {
      "cell_type": "code",
      "source": [
        "data_train_np_y = to_categorical(data_train['Survived'])"
      ],
      "metadata": {
        "id": "5EApf-RqS8zR"
      },
      "execution_count": null,
      "outputs": []
    },
    {
      "cell_type": "code",
      "source": [
        "data_train_np_y"
      ],
      "metadata": {
        "colab": {
          "base_uri": "https://localhost:8080/"
        },
        "id": "kbHkcBRxTMy0",
        "outputId": "8c5045d2-c128-4bd3-9f55-bd44ee77a596"
      },
      "execution_count": null,
      "outputs": [
        {
          "output_type": "execute_result",
          "data": {
            "text/plain": [
              "array([[1., 0.],\n",
              "       [0., 1.],\n",
              "       [0., 1.],\n",
              "       ...,\n",
              "       [1., 0.],\n",
              "       [0., 1.],\n",
              "       [1., 0.]], dtype=float32)"
            ]
          },
          "metadata": {},
          "execution_count": 32
        }
      ]
    },
    {
      "cell_type": "markdown",
      "source": [
        "# test 데이터 수치 및 정규화\n",
        "\n"
      ],
      "metadata": {
        "id": "PRfXhZpwU7Op"
      }
    },
    {
      "cell_type": "markdown",
      "source": [
        "survived 항목은 test 데이터에 없으므로 생략\n"
      ],
      "metadata": {
        "id": "95UTrM8-Rh7p"
      }
    },
    {
      "cell_type": "code",
      "source": [
        "# 비어있는 numpy 배열 생성\n",
        "test_data_len = data_test.shape[0]\n",
        "data_test_np = np.zeros([test_data_len,8])"
      ],
      "metadata": {
        "id": "JCr5hVbSTX95"
      },
      "execution_count": null,
      "outputs": []
    },
    {
      "cell_type": "code",
      "source": [
        "# 성별데이터를 원-핫 인코딩\n",
        "sex_num = np.zeros(data_test_np.shape[0])\n",
        "sex_num[np.array(data_test['Sex']=='female')] = 1\n",
        "data_test_np[:,0:2] = to_categorical(sex_num)"
      ],
      "metadata": {
        "id": "lkA1LRiHF0pR"
      },
      "execution_count": null,
      "outputs": []
    },
    {
      "cell_type": "code",
      "source": [
        "# 객실등급데이터를 원-핫 인코딩\n",
        "data_test_np[:,2:5] = to_categorical(data_test['Pclass'].to_numpy()-1)"
      ],
      "metadata": {
        "id": "mnla4VXORGXo"
      },
      "execution_count": null,
      "outputs": []
    },
    {
      "cell_type": "code",
      "source": [
        "# 나이, 형제/배우자수, 부모/자녀수 정규화\n",
        "data_test_np[:,5] = data_test['Age']/80\n",
        "data_test_np[:,6] = data_test['SibSp']/10\n",
        "data_test_np[:,7] = data_test['Parch']/10"
      ],
      "metadata": {
        "id": "GpRAam61RQHk"
      },
      "execution_count": null,
      "outputs": []
    },
    {
      "cell_type": "code",
      "source": [
        "# nan값의 처리\n",
        "data_test_np[np.isnan(data_test_np)] = 30/80"
      ],
      "metadata": {
        "id": "I-3l7aZrRaws"
      },
      "execution_count": null,
      "outputs": []
    },
    {
      "cell_type": "markdown",
      "source": [
        "# 6.6 완전 연결층과 타이타닉 데이터\n"
      ],
      "metadata": {
        "id": "UVirQxVPS8kF"
      }
    },
    {
      "cell_type": "code",
      "execution_count": null,
      "metadata": {
        "id": "-9pUnVopQXvU"
      },
      "outputs": [],
      "source": [
        "from keras.models import Sequential\n",
        "from keras import layers\n",
        "from keras import optimizers"
      ]
    },
    {
      "cell_type": "code",
      "source": [
        "model = Sequential()\n",
        "model.add(layers.Dense(units=8, activation='relu')) # 0보다 작은 값은 0, 다른 값은 그대로 출력\n",
        "model.add(layers.Dense(units=16, activation='relu'))\n",
        "model.add(layers.Dense(units=32, activation='relu'))\n",
        "model.add(layers.Dense(units=64, activation='relu'))\n",
        "model.add(layers.Dense(units=2, activation='softmax')) # 출력 노드들 합이 1이 되도록 조정"
      ],
      "metadata": {
        "id": "UKF6aao_Rywr"
      },
      "execution_count": null,
      "outputs": []
    },
    {
      "cell_type": "markdown",
      "source": [
        "오버피팅?\n",
        "-> train 데이터에는 적절하나, test 데이터에는 정확도가 떨어짐?"
      ],
      "metadata": {
        "id": "igfEKLK2luJp"
      }
    },
    {
      "cell_type": "code",
      "source": [
        "# add해서 model은 생성함\n",
        "# 이제 최적화 도구를 뭘 할지 선택해야함\n",
        "# 원-핫 인코딩했으니까 -> categorical_crossentropy\n",
        "# accuracy 가지고 평가하겠다.\n",
        "model.compile(loss='categorical_crossentropy',\n",
        "              optimizer = optimizers.RMSprop(lr=0.001), metrics=['accuracy'])"
      ],
      "metadata": {
        "colab": {
          "base_uri": "https://localhost:8080/"
        },
        "id": "qUfDKdlyR0Wr",
        "outputId": "f0e8fcf3-71c9-4d79-bedd-466fecff663f"
      },
      "execution_count": null,
      "outputs": [
        {
          "output_type": "stream",
          "name": "stderr",
          "text": [
            "/usr/local/lib/python3.9/dist-packages/keras/optimizers/legacy/rmsprop.py:143: UserWarning: The `lr` argument is deprecated, use `learning_rate` instead.\n",
            "  super().__init__(name, **kwargs)\n"
          ]
        }
      ]
    },
    {
      "cell_type": "code",
      "source": [
        "hist = model.fit(data_train_np,data_train_np_y, epochs = 400,\n",
        "                 batch_size=128, validation_split=0.3)\n",
        "# validation_split -> 학습 데이터 내에서 학습 데이터와 검증 데이터로 나눌 수 있는데,\n",
        "# 그중에서 70% 학습에, 30%는 검증에 사용하겠다!\n",
        "# 학습 도중에 계속 테스트를 진행함\n",
        "# 최종 테스트는 kaggle 업로드 하면서 진행됨"
      ],
      "metadata": {
        "colab": {
          "base_uri": "https://localhost:8080/"
        },
        "id": "8uUP3aaBTtMG",
        "outputId": "b140179a-4038-4f64-c2ed-565980559807"
      },
      "execution_count": null,
      "outputs": [
        {
          "output_type": "stream",
          "name": "stdout",
          "text": [
            "Epoch 1/400\n",
            "5/5 [==============================] - 1s 73ms/step - loss: 0.6605 - accuracy: 0.5955 - val_loss: 0.6099 - val_accuracy: 0.6418\n",
            "Epoch 2/400\n",
            "5/5 [==============================] - 0s 17ms/step - loss: 0.6071 - accuracy: 0.6661 - val_loss: 0.5674 - val_accuracy: 0.7388\n",
            "Epoch 3/400\n",
            "5/5 [==============================] - 0s 10ms/step - loss: 0.5704 - accuracy: 0.7560 - val_loss: 0.5344 - val_accuracy: 0.7687\n",
            "Epoch 4/400\n",
            "5/5 [==============================] - 0s 15ms/step - loss: 0.5413 - accuracy: 0.7817 - val_loss: 0.5100 - val_accuracy: 0.7799\n",
            "Epoch 5/400\n",
            "5/5 [==============================] - 0s 11ms/step - loss: 0.5189 - accuracy: 0.7929 - val_loss: 0.4913 - val_accuracy: 0.7799\n",
            "Epoch 6/400\n",
            "5/5 [==============================] - 0s 11ms/step - loss: 0.5021 - accuracy: 0.7929 - val_loss: 0.4774 - val_accuracy: 0.7836\n",
            "Epoch 7/400\n",
            "5/5 [==============================] - 0s 11ms/step - loss: 0.4892 - accuracy: 0.7929 - val_loss: 0.4678 - val_accuracy: 0.7836\n",
            "Epoch 8/400\n",
            "5/5 [==============================] - 0s 14ms/step - loss: 0.4808 - accuracy: 0.7945 - val_loss: 0.4588 - val_accuracy: 0.7836\n",
            "Epoch 9/400\n",
            "5/5 [==============================] - 0s 10ms/step - loss: 0.4717 - accuracy: 0.7945 - val_loss: 0.4524 - val_accuracy: 0.7836\n",
            "Epoch 10/400\n",
            "5/5 [==============================] - 0s 15ms/step - loss: 0.4655 - accuracy: 0.7945 - val_loss: 0.4432 - val_accuracy: 0.7836\n",
            "Epoch 11/400\n",
            "5/5 [==============================] - 0s 11ms/step - loss: 0.4612 - accuracy: 0.7929 - val_loss: 0.4381 - val_accuracy: 0.7836\n",
            "Epoch 12/400\n",
            "5/5 [==============================] - 0s 11ms/step - loss: 0.4563 - accuracy: 0.7945 - val_loss: 0.4348 - val_accuracy: 0.7836\n",
            "Epoch 13/400\n",
            "5/5 [==============================] - 0s 18ms/step - loss: 0.4521 - accuracy: 0.7961 - val_loss: 0.4308 - val_accuracy: 0.7836\n",
            "Epoch 14/400\n",
            "5/5 [==============================] - 0s 27ms/step - loss: 0.4499 - accuracy: 0.7897 - val_loss: 0.4283 - val_accuracy: 0.7910\n",
            "Epoch 15/400\n",
            "5/5 [==============================] - 0s 29ms/step - loss: 0.4501 - accuracy: 0.7929 - val_loss: 0.4265 - val_accuracy: 0.7910\n",
            "Epoch 16/400\n",
            "5/5 [==============================] - 0s 25ms/step - loss: 0.4472 - accuracy: 0.7929 - val_loss: 0.4255 - val_accuracy: 0.7910\n",
            "Epoch 17/400\n",
            "5/5 [==============================] - 0s 28ms/step - loss: 0.4484 - accuracy: 0.7929 - val_loss: 0.4235 - val_accuracy: 0.8060\n",
            "Epoch 18/400\n",
            "5/5 [==============================] - 0s 20ms/step - loss: 0.4482 - accuracy: 0.7978 - val_loss: 0.4238 - val_accuracy: 0.7985\n",
            "Epoch 19/400\n",
            "5/5 [==============================] - 0s 20ms/step - loss: 0.4467 - accuracy: 0.7897 - val_loss: 0.4230 - val_accuracy: 0.7985\n",
            "Epoch 20/400\n",
            "5/5 [==============================] - 0s 20ms/step - loss: 0.4466 - accuracy: 0.7913 - val_loss: 0.4244 - val_accuracy: 0.7910\n",
            "Epoch 21/400\n",
            "5/5 [==============================] - 0s 21ms/step - loss: 0.4466 - accuracy: 0.7961 - val_loss: 0.4217 - val_accuracy: 0.7985\n",
            "Epoch 22/400\n",
            "5/5 [==============================] - 0s 19ms/step - loss: 0.4461 - accuracy: 0.7978 - val_loss: 0.4221 - val_accuracy: 0.7985\n",
            "Epoch 23/400\n",
            "5/5 [==============================] - 0s 19ms/step - loss: 0.4439 - accuracy: 0.8042 - val_loss: 0.4230 - val_accuracy: 0.7948\n",
            "Epoch 24/400\n",
            "5/5 [==============================] - 0s 20ms/step - loss: 0.4446 - accuracy: 0.7865 - val_loss: 0.4217 - val_accuracy: 0.7985\n",
            "Epoch 25/400\n",
            "5/5 [==============================] - 0s 43ms/step - loss: 0.4444 - accuracy: 0.7978 - val_loss: 0.4213 - val_accuracy: 0.8022\n",
            "Epoch 26/400\n",
            "5/5 [==============================] - 0s 22ms/step - loss: 0.4454 - accuracy: 0.7929 - val_loss: 0.4225 - val_accuracy: 0.7985\n",
            "Epoch 27/400\n",
            "5/5 [==============================] - 0s 46ms/step - loss: 0.4445 - accuracy: 0.7929 - val_loss: 0.4215 - val_accuracy: 0.7985\n",
            "Epoch 28/400\n",
            "5/5 [==============================] - 0s 67ms/step - loss: 0.4436 - accuracy: 0.8010 - val_loss: 0.4249 - val_accuracy: 0.7948\n",
            "Epoch 29/400\n",
            "5/5 [==============================] - 0s 29ms/step - loss: 0.4441 - accuracy: 0.8026 - val_loss: 0.4214 - val_accuracy: 0.7948\n",
            "Epoch 30/400\n",
            "5/5 [==============================] - 0s 38ms/step - loss: 0.4436 - accuracy: 0.7994 - val_loss: 0.4203 - val_accuracy: 0.8022\n",
            "Epoch 31/400\n",
            "5/5 [==============================] - 0s 89ms/step - loss: 0.4437 - accuracy: 0.7945 - val_loss: 0.4207 - val_accuracy: 0.7948\n",
            "Epoch 32/400\n",
            "5/5 [==============================] - 0s 82ms/step - loss: 0.4431 - accuracy: 0.8042 - val_loss: 0.4192 - val_accuracy: 0.8060\n",
            "Epoch 33/400\n",
            "5/5 [==============================] - 0s 88ms/step - loss: 0.4436 - accuracy: 0.8042 - val_loss: 0.4212 - val_accuracy: 0.8022\n",
            "Epoch 34/400\n",
            "5/5 [==============================] - 0s 86ms/step - loss: 0.4441 - accuracy: 0.7945 - val_loss: 0.4186 - val_accuracy: 0.8097\n",
            "Epoch 35/400\n",
            "5/5 [==============================] - 0s 89ms/step - loss: 0.4455 - accuracy: 0.8090 - val_loss: 0.4177 - val_accuracy: 0.8060\n",
            "Epoch 36/400\n",
            "5/5 [==============================] - 0s 52ms/step - loss: 0.4427 - accuracy: 0.8010 - val_loss: 0.4183 - val_accuracy: 0.8060\n",
            "Epoch 37/400\n",
            "5/5 [==============================] - 0s 37ms/step - loss: 0.4416 - accuracy: 0.8058 - val_loss: 0.4216 - val_accuracy: 0.7985\n",
            "Epoch 38/400\n",
            "5/5 [==============================] - 0s 49ms/step - loss: 0.4442 - accuracy: 0.8026 - val_loss: 0.4184 - val_accuracy: 0.8022\n",
            "Epoch 39/400\n",
            "5/5 [==============================] - 0s 35ms/step - loss: 0.4421 - accuracy: 0.8026 - val_loss: 0.4177 - val_accuracy: 0.8060\n",
            "Epoch 40/400\n",
            "5/5 [==============================] - 0s 45ms/step - loss: 0.4428 - accuracy: 0.7994 - val_loss: 0.4178 - val_accuracy: 0.8060\n",
            "Epoch 41/400\n",
            "5/5 [==============================] - 0s 43ms/step - loss: 0.4430 - accuracy: 0.8010 - val_loss: 0.4215 - val_accuracy: 0.7948\n",
            "Epoch 42/400\n",
            "5/5 [==============================] - 0s 45ms/step - loss: 0.4426 - accuracy: 0.8090 - val_loss: 0.4224 - val_accuracy: 0.7948\n",
            "Epoch 43/400\n",
            "5/5 [==============================] - 0s 44ms/step - loss: 0.4444 - accuracy: 0.7945 - val_loss: 0.4209 - val_accuracy: 0.7948\n",
            "Epoch 44/400\n",
            "5/5 [==============================] - 0s 34ms/step - loss: 0.4416 - accuracy: 0.7978 - val_loss: 0.4168 - val_accuracy: 0.8060\n",
            "Epoch 45/400\n",
            "5/5 [==============================] - 0s 33ms/step - loss: 0.4430 - accuracy: 0.8026 - val_loss: 0.4171 - val_accuracy: 0.8022\n",
            "Epoch 46/400\n",
            "5/5 [==============================] - 0s 33ms/step - loss: 0.4418 - accuracy: 0.7978 - val_loss: 0.4219 - val_accuracy: 0.7948\n",
            "Epoch 47/400\n",
            "5/5 [==============================] - 0s 43ms/step - loss: 0.4415 - accuracy: 0.8074 - val_loss: 0.4172 - val_accuracy: 0.8022\n",
            "Epoch 48/400\n",
            "5/5 [==============================] - 0s 34ms/step - loss: 0.4424 - accuracy: 0.8026 - val_loss: 0.4170 - val_accuracy: 0.8022\n",
            "Epoch 49/400\n",
            "5/5 [==============================] - 0s 15ms/step - loss: 0.4410 - accuracy: 0.8058 - val_loss: 0.4195 - val_accuracy: 0.7985\n",
            "Epoch 50/400\n",
            "5/5 [==============================] - 0s 14ms/step - loss: 0.4411 - accuracy: 0.7978 - val_loss: 0.4156 - val_accuracy: 0.8060\n",
            "Epoch 51/400\n",
            "5/5 [==============================] - 0s 12ms/step - loss: 0.4394 - accuracy: 0.8026 - val_loss: 0.4177 - val_accuracy: 0.7985\n",
            "Epoch 52/400\n",
            "5/5 [==============================] - 0s 15ms/step - loss: 0.4410 - accuracy: 0.8010 - val_loss: 0.4188 - val_accuracy: 0.7985\n",
            "Epoch 53/400\n",
            "5/5 [==============================] - 0s 10ms/step - loss: 0.4406 - accuracy: 0.8026 - val_loss: 0.4148 - val_accuracy: 0.8134\n",
            "Epoch 54/400\n",
            "5/5 [==============================] - 0s 15ms/step - loss: 0.4395 - accuracy: 0.8042 - val_loss: 0.4189 - val_accuracy: 0.7985\n",
            "Epoch 55/400\n",
            "5/5 [==============================] - 0s 16ms/step - loss: 0.4413 - accuracy: 0.8010 - val_loss: 0.4163 - val_accuracy: 0.7985\n",
            "Epoch 56/400\n",
            "5/5 [==============================] - 0s 11ms/step - loss: 0.4396 - accuracy: 0.8026 - val_loss: 0.4170 - val_accuracy: 0.7985\n",
            "Epoch 57/400\n",
            "5/5 [==============================] - 0s 14ms/step - loss: 0.4397 - accuracy: 0.7994 - val_loss: 0.4154 - val_accuracy: 0.7985\n",
            "Epoch 58/400\n",
            "5/5 [==============================] - 0s 15ms/step - loss: 0.4389 - accuracy: 0.8042 - val_loss: 0.4146 - val_accuracy: 0.8097\n",
            "Epoch 59/400\n",
            "5/5 [==============================] - 0s 11ms/step - loss: 0.4406 - accuracy: 0.8010 - val_loss: 0.4129 - val_accuracy: 0.8172\n",
            "Epoch 60/400\n",
            "5/5 [==============================] - 0s 11ms/step - loss: 0.4404 - accuracy: 0.7961 - val_loss: 0.4162 - val_accuracy: 0.7985\n",
            "Epoch 61/400\n",
            "5/5 [==============================] - 0s 15ms/step - loss: 0.4412 - accuracy: 0.7978 - val_loss: 0.4172 - val_accuracy: 0.7985\n",
            "Epoch 62/400\n",
            "5/5 [==============================] - 0s 16ms/step - loss: 0.4398 - accuracy: 0.8074 - val_loss: 0.4136 - val_accuracy: 0.8134\n",
            "Epoch 63/400\n",
            "5/5 [==============================] - 0s 15ms/step - loss: 0.4393 - accuracy: 0.8058 - val_loss: 0.4160 - val_accuracy: 0.7985\n",
            "Epoch 64/400\n",
            "5/5 [==============================] - 0s 12ms/step - loss: 0.4386 - accuracy: 0.8090 - val_loss: 0.4145 - val_accuracy: 0.7985\n",
            "Epoch 65/400\n",
            "5/5 [==============================] - 0s 11ms/step - loss: 0.4395 - accuracy: 0.8074 - val_loss: 0.4145 - val_accuracy: 0.8022\n",
            "Epoch 66/400\n",
            "5/5 [==============================] - 0s 15ms/step - loss: 0.4381 - accuracy: 0.8026 - val_loss: 0.4156 - val_accuracy: 0.7985\n",
            "Epoch 67/400\n",
            "5/5 [==============================] - 0s 13ms/step - loss: 0.4420 - accuracy: 0.8058 - val_loss: 0.4122 - val_accuracy: 0.8134\n",
            "Epoch 68/400\n",
            "5/5 [==============================] - 0s 14ms/step - loss: 0.4383 - accuracy: 0.7978 - val_loss: 0.4138 - val_accuracy: 0.8060\n",
            "Epoch 69/400\n",
            "5/5 [==============================] - 0s 15ms/step - loss: 0.4378 - accuracy: 0.8106 - val_loss: 0.4111 - val_accuracy: 0.8172\n",
            "Epoch 70/400\n",
            "5/5 [==============================] - 0s 16ms/step - loss: 0.4381 - accuracy: 0.8058 - val_loss: 0.4133 - val_accuracy: 0.8022\n",
            "Epoch 71/400\n",
            "5/5 [==============================] - 0s 11ms/step - loss: 0.4387 - accuracy: 0.8042 - val_loss: 0.4176 - val_accuracy: 0.7985\n",
            "Epoch 72/400\n",
            "5/5 [==============================] - 0s 14ms/step - loss: 0.4381 - accuracy: 0.8042 - val_loss: 0.4131 - val_accuracy: 0.8022\n",
            "Epoch 73/400\n",
            "5/5 [==============================] - 0s 11ms/step - loss: 0.4385 - accuracy: 0.7994 - val_loss: 0.4131 - val_accuracy: 0.8097\n",
            "Epoch 74/400\n",
            "5/5 [==============================] - 0s 17ms/step - loss: 0.4386 - accuracy: 0.8058 - val_loss: 0.4144 - val_accuracy: 0.8060\n",
            "Epoch 75/400\n",
            "5/5 [==============================] - 0s 14ms/step - loss: 0.4392 - accuracy: 0.8010 - val_loss: 0.4120 - val_accuracy: 0.8097\n",
            "Epoch 76/400\n",
            "5/5 [==============================] - 0s 12ms/step - loss: 0.4380 - accuracy: 0.8058 - val_loss: 0.4112 - val_accuracy: 0.8134\n",
            "Epoch 77/400\n",
            "5/5 [==============================] - 0s 11ms/step - loss: 0.4369 - accuracy: 0.8074 - val_loss: 0.4098 - val_accuracy: 0.8172\n",
            "Epoch 78/400\n",
            "5/5 [==============================] - 0s 12ms/step - loss: 0.4366 - accuracy: 0.8026 - val_loss: 0.4126 - val_accuracy: 0.8022\n",
            "Epoch 79/400\n",
            "5/5 [==============================] - 0s 13ms/step - loss: 0.4373 - accuracy: 0.7978 - val_loss: 0.4109 - val_accuracy: 0.8060\n",
            "Epoch 80/400\n",
            "5/5 [==============================] - 0s 11ms/step - loss: 0.4373 - accuracy: 0.8010 - val_loss: 0.4109 - val_accuracy: 0.8097\n",
            "Epoch 81/400\n",
            "5/5 [==============================] - 0s 14ms/step - loss: 0.4390 - accuracy: 0.8074 - val_loss: 0.4140 - val_accuracy: 0.7985\n",
            "Epoch 82/400\n",
            "5/5 [==============================] - 0s 15ms/step - loss: 0.4373 - accuracy: 0.8090 - val_loss: 0.4104 - val_accuracy: 0.8172\n",
            "Epoch 83/400\n",
            "5/5 [==============================] - 0s 14ms/step - loss: 0.4362 - accuracy: 0.8010 - val_loss: 0.4108 - val_accuracy: 0.8097\n",
            "Epoch 84/400\n",
            "5/5 [==============================] - 0s 16ms/step - loss: 0.4372 - accuracy: 0.8026 - val_loss: 0.4091 - val_accuracy: 0.8172\n",
            "Epoch 85/400\n",
            "5/5 [==============================] - 0s 15ms/step - loss: 0.4365 - accuracy: 0.8058 - val_loss: 0.4118 - val_accuracy: 0.8022\n",
            "Epoch 86/400\n",
            "5/5 [==============================] - 0s 17ms/step - loss: 0.4371 - accuracy: 0.8090 - val_loss: 0.4081 - val_accuracy: 0.8172\n",
            "Epoch 87/400\n",
            "5/5 [==============================] - 0s 11ms/step - loss: 0.4367 - accuracy: 0.8074 - val_loss: 0.4089 - val_accuracy: 0.8172\n",
            "Epoch 88/400\n",
            "5/5 [==============================] - 0s 14ms/step - loss: 0.4371 - accuracy: 0.7994 - val_loss: 0.4090 - val_accuracy: 0.8172\n",
            "Epoch 89/400\n",
            "5/5 [==============================] - 0s 15ms/step - loss: 0.4363 - accuracy: 0.8058 - val_loss: 0.4140 - val_accuracy: 0.8022\n",
            "Epoch 90/400\n",
            "5/5 [==============================] - 0s 12ms/step - loss: 0.4414 - accuracy: 0.8010 - val_loss: 0.4127 - val_accuracy: 0.8022\n",
            "Epoch 91/400\n",
            "5/5 [==============================] - 0s 16ms/step - loss: 0.4351 - accuracy: 0.8042 - val_loss: 0.4098 - val_accuracy: 0.8060\n",
            "Epoch 92/400\n",
            "5/5 [==============================] - 0s 10ms/step - loss: 0.4364 - accuracy: 0.8058 - val_loss: 0.4071 - val_accuracy: 0.8172\n",
            "Epoch 93/400\n",
            "5/5 [==============================] - 0s 14ms/step - loss: 0.4374 - accuracy: 0.8058 - val_loss: 0.4117 - val_accuracy: 0.8060\n",
            "Epoch 94/400\n",
            "5/5 [==============================] - 0s 9ms/step - loss: 0.4373 - accuracy: 0.8042 - val_loss: 0.4075 - val_accuracy: 0.8172\n",
            "Epoch 95/400\n",
            "5/5 [==============================] - 0s 12ms/step - loss: 0.4363 - accuracy: 0.8074 - val_loss: 0.4089 - val_accuracy: 0.8172\n",
            "Epoch 96/400\n",
            "5/5 [==============================] - 0s 14ms/step - loss: 0.4374 - accuracy: 0.7961 - val_loss: 0.4065 - val_accuracy: 0.8172\n",
            "Epoch 97/400\n",
            "5/5 [==============================] - 0s 12ms/step - loss: 0.4363 - accuracy: 0.8026 - val_loss: 0.4065 - val_accuracy: 0.8209\n",
            "Epoch 98/400\n",
            "5/5 [==============================] - 0s 10ms/step - loss: 0.4361 - accuracy: 0.8026 - val_loss: 0.4070 - val_accuracy: 0.8209\n",
            "Epoch 99/400\n",
            "5/5 [==============================] - 0s 14ms/step - loss: 0.4360 - accuracy: 0.8026 - val_loss: 0.4080 - val_accuracy: 0.8172\n",
            "Epoch 100/400\n",
            "5/5 [==============================] - 0s 17ms/step - loss: 0.4361 - accuracy: 0.8042 - val_loss: 0.4101 - val_accuracy: 0.8060\n",
            "Epoch 101/400\n",
            "5/5 [==============================] - 0s 15ms/step - loss: 0.4348 - accuracy: 0.8010 - val_loss: 0.4073 - val_accuracy: 0.8209\n",
            "Epoch 102/400\n",
            "5/5 [==============================] - 0s 11ms/step - loss: 0.4359 - accuracy: 0.8010 - val_loss: 0.4085 - val_accuracy: 0.8060\n",
            "Epoch 103/400\n",
            "5/5 [==============================] - 0s 11ms/step - loss: 0.4346 - accuracy: 0.8042 - val_loss: 0.4071 - val_accuracy: 0.8209\n",
            "Epoch 104/400\n",
            "5/5 [==============================] - 0s 16ms/step - loss: 0.4363 - accuracy: 0.8042 - val_loss: 0.4100 - val_accuracy: 0.8060\n",
            "Epoch 105/400\n",
            "5/5 [==============================] - 0s 15ms/step - loss: 0.4328 - accuracy: 0.8074 - val_loss: 0.4062 - val_accuracy: 0.8209\n",
            "Epoch 106/400\n",
            "5/5 [==============================] - 0s 13ms/step - loss: 0.4360 - accuracy: 0.7994 - val_loss: 0.4059 - val_accuracy: 0.8209\n",
            "Epoch 107/400\n",
            "5/5 [==============================] - 0s 16ms/step - loss: 0.4353 - accuracy: 0.7994 - val_loss: 0.4069 - val_accuracy: 0.8209\n",
            "Epoch 108/400\n",
            "5/5 [==============================] - 0s 16ms/step - loss: 0.4369 - accuracy: 0.8026 - val_loss: 0.4080 - val_accuracy: 0.8060\n",
            "Epoch 109/400\n",
            "5/5 [==============================] - 0s 11ms/step - loss: 0.4325 - accuracy: 0.8090 - val_loss: 0.4068 - val_accuracy: 0.8209\n",
            "Epoch 110/400\n",
            "5/5 [==============================] - 0s 16ms/step - loss: 0.4330 - accuracy: 0.8122 - val_loss: 0.4164 - val_accuracy: 0.7985\n",
            "Epoch 111/400\n",
            "5/5 [==============================] - 0s 11ms/step - loss: 0.4345 - accuracy: 0.8026 - val_loss: 0.4059 - val_accuracy: 0.8209\n",
            "Epoch 112/400\n",
            "5/5 [==============================] - 0s 16ms/step - loss: 0.4325 - accuracy: 0.8106 - val_loss: 0.4133 - val_accuracy: 0.8097\n",
            "Epoch 113/400\n",
            "5/5 [==============================] - 0s 16ms/step - loss: 0.4351 - accuracy: 0.8026 - val_loss: 0.4088 - val_accuracy: 0.8060\n",
            "Epoch 114/400\n",
            "5/5 [==============================] - 0s 16ms/step - loss: 0.4330 - accuracy: 0.8074 - val_loss: 0.4060 - val_accuracy: 0.8246\n",
            "Epoch 115/400\n",
            "5/5 [==============================] - 0s 15ms/step - loss: 0.4334 - accuracy: 0.8074 - val_loss: 0.4039 - val_accuracy: 0.8209\n",
            "Epoch 116/400\n",
            "5/5 [==============================] - 0s 15ms/step - loss: 0.4335 - accuracy: 0.8106 - val_loss: 0.4051 - val_accuracy: 0.8209\n",
            "Epoch 117/400\n",
            "5/5 [==============================] - 0s 15ms/step - loss: 0.4335 - accuracy: 0.8074 - val_loss: 0.4101 - val_accuracy: 0.8097\n",
            "Epoch 118/400\n",
            "5/5 [==============================] - 0s 13ms/step - loss: 0.4342 - accuracy: 0.8042 - val_loss: 0.4053 - val_accuracy: 0.8209\n",
            "Epoch 119/400\n",
            "5/5 [==============================] - 0s 16ms/step - loss: 0.4334 - accuracy: 0.8074 - val_loss: 0.4046 - val_accuracy: 0.8209\n",
            "Epoch 120/400\n",
            "5/5 [==============================] - 0s 15ms/step - loss: 0.4347 - accuracy: 0.8074 - val_loss: 0.4040 - val_accuracy: 0.8246\n",
            "Epoch 121/400\n",
            "5/5 [==============================] - 0s 20ms/step - loss: 0.4337 - accuracy: 0.8058 - val_loss: 0.4059 - val_accuracy: 0.8097\n",
            "Epoch 122/400\n",
            "5/5 [==============================] - 0s 16ms/step - loss: 0.4314 - accuracy: 0.8122 - val_loss: 0.4035 - val_accuracy: 0.8209\n",
            "Epoch 123/400\n",
            "5/5 [==============================] - 0s 14ms/step - loss: 0.4328 - accuracy: 0.8026 - val_loss: 0.4050 - val_accuracy: 0.8246\n",
            "Epoch 124/400\n",
            "5/5 [==============================] - 0s 14ms/step - loss: 0.4334 - accuracy: 0.8058 - val_loss: 0.4089 - val_accuracy: 0.8321\n",
            "Epoch 125/400\n",
            "5/5 [==============================] - 0s 16ms/step - loss: 0.4308 - accuracy: 0.8074 - val_loss: 0.4038 - val_accuracy: 0.8209\n",
            "Epoch 126/400\n",
            "5/5 [==============================] - 0s 16ms/step - loss: 0.4324 - accuracy: 0.8074 - val_loss: 0.4057 - val_accuracy: 0.8134\n",
            "Epoch 127/400\n",
            "5/5 [==============================] - 0s 14ms/step - loss: 0.4380 - accuracy: 0.8106 - val_loss: 0.4046 - val_accuracy: 0.8134\n",
            "Epoch 128/400\n",
            "5/5 [==============================] - 0s 18ms/step - loss: 0.4319 - accuracy: 0.8026 - val_loss: 0.4050 - val_accuracy: 0.8134\n",
            "Epoch 129/400\n",
            "5/5 [==============================] - 0s 12ms/step - loss: 0.4321 - accuracy: 0.8106 - val_loss: 0.4045 - val_accuracy: 0.8284\n",
            "Epoch 130/400\n",
            "5/5 [==============================] - 0s 11ms/step - loss: 0.4309 - accuracy: 0.8106 - val_loss: 0.4020 - val_accuracy: 0.8246\n",
            "Epoch 131/400\n",
            "5/5 [==============================] - 0s 12ms/step - loss: 0.4333 - accuracy: 0.8122 - val_loss: 0.4053 - val_accuracy: 0.8321\n",
            "Epoch 132/400\n",
            "5/5 [==============================] - 0s 15ms/step - loss: 0.4331 - accuracy: 0.8106 - val_loss: 0.4009 - val_accuracy: 0.8246\n",
            "Epoch 133/400\n",
            "5/5 [==============================] - 0s 12ms/step - loss: 0.4321 - accuracy: 0.8090 - val_loss: 0.4011 - val_accuracy: 0.8321\n",
            "Epoch 134/400\n",
            "5/5 [==============================] - 0s 17ms/step - loss: 0.4343 - accuracy: 0.8106 - val_loss: 0.4027 - val_accuracy: 0.8358\n",
            "Epoch 135/400\n",
            "5/5 [==============================] - 0s 13ms/step - loss: 0.4302 - accuracy: 0.8058 - val_loss: 0.4022 - val_accuracy: 0.8246\n",
            "Epoch 136/400\n",
            "5/5 [==============================] - 0s 15ms/step - loss: 0.4326 - accuracy: 0.8106 - val_loss: 0.4051 - val_accuracy: 0.8209\n",
            "Epoch 137/400\n",
            "5/5 [==============================] - 0s 12ms/step - loss: 0.4300 - accuracy: 0.8154 - val_loss: 0.4044 - val_accuracy: 0.8209\n",
            "Epoch 138/400\n",
            "5/5 [==============================] - 0s 18ms/step - loss: 0.4293 - accuracy: 0.8186 - val_loss: 0.4006 - val_accuracy: 0.8246\n",
            "Epoch 139/400\n",
            "5/5 [==============================] - 0s 15ms/step - loss: 0.4317 - accuracy: 0.8122 - val_loss: 0.4063 - val_accuracy: 0.8209\n",
            "Epoch 140/400\n",
            "5/5 [==============================] - 0s 12ms/step - loss: 0.4306 - accuracy: 0.8106 - val_loss: 0.4044 - val_accuracy: 0.8321\n",
            "Epoch 141/400\n",
            "5/5 [==============================] - 0s 10ms/step - loss: 0.4305 - accuracy: 0.8154 - val_loss: 0.3997 - val_accuracy: 0.8284\n",
            "Epoch 142/400\n",
            "5/5 [==============================] - 0s 11ms/step - loss: 0.4311 - accuracy: 0.8106 - val_loss: 0.3999 - val_accuracy: 0.8284\n",
            "Epoch 143/400\n",
            "5/5 [==============================] - 0s 10ms/step - loss: 0.4308 - accuracy: 0.8090 - val_loss: 0.4037 - val_accuracy: 0.8246\n",
            "Epoch 144/400\n",
            "5/5 [==============================] - 0s 11ms/step - loss: 0.4302 - accuracy: 0.8154 - val_loss: 0.4011 - val_accuracy: 0.8321\n",
            "Epoch 145/400\n",
            "5/5 [==============================] - 0s 16ms/step - loss: 0.4306 - accuracy: 0.8106 - val_loss: 0.3998 - val_accuracy: 0.8321\n",
            "Epoch 146/400\n",
            "5/5 [==============================] - 0s 15ms/step - loss: 0.4339 - accuracy: 0.8186 - val_loss: 0.3997 - val_accuracy: 0.8321\n",
            "Epoch 147/400\n",
            "5/5 [==============================] - 0s 12ms/step - loss: 0.4317 - accuracy: 0.8090 - val_loss: 0.4006 - val_accuracy: 0.8358\n",
            "Epoch 148/400\n",
            "5/5 [==============================] - 0s 15ms/step - loss: 0.4284 - accuracy: 0.8154 - val_loss: 0.3985 - val_accuracy: 0.8321\n",
            "Epoch 149/400\n",
            "5/5 [==============================] - 0s 11ms/step - loss: 0.4285 - accuracy: 0.8186 - val_loss: 0.3999 - val_accuracy: 0.8321\n",
            "Epoch 150/400\n",
            "5/5 [==============================] - 0s 15ms/step - loss: 0.4288 - accuracy: 0.8138 - val_loss: 0.3987 - val_accuracy: 0.8321\n",
            "Epoch 151/400\n",
            "5/5 [==============================] - 0s 12ms/step - loss: 0.4307 - accuracy: 0.8122 - val_loss: 0.4013 - val_accuracy: 0.8358\n",
            "Epoch 152/400\n",
            "5/5 [==============================] - 0s 11ms/step - loss: 0.4291 - accuracy: 0.8186 - val_loss: 0.3984 - val_accuracy: 0.8321\n",
            "Epoch 153/400\n",
            "5/5 [==============================] - 0s 12ms/step - loss: 0.4311 - accuracy: 0.8202 - val_loss: 0.3975 - val_accuracy: 0.8358\n",
            "Epoch 154/400\n",
            "5/5 [==============================] - 0s 16ms/step - loss: 0.4300 - accuracy: 0.8122 - val_loss: 0.3982 - val_accuracy: 0.8321\n",
            "Epoch 155/400\n",
            "5/5 [==============================] - 0s 15ms/step - loss: 0.4304 - accuracy: 0.8186 - val_loss: 0.3990 - val_accuracy: 0.8358\n",
            "Epoch 156/400\n",
            "5/5 [==============================] - 0s 17ms/step - loss: 0.4291 - accuracy: 0.8090 - val_loss: 0.3993 - val_accuracy: 0.8358\n",
            "Epoch 157/400\n",
            "5/5 [==============================] - 0s 17ms/step - loss: 0.4295 - accuracy: 0.8138 - val_loss: 0.4021 - val_accuracy: 0.8321\n",
            "Epoch 158/400\n",
            "5/5 [==============================] - 0s 15ms/step - loss: 0.4273 - accuracy: 0.8122 - val_loss: 0.4009 - val_accuracy: 0.8321\n",
            "Epoch 159/400\n",
            "5/5 [==============================] - 0s 15ms/step - loss: 0.4285 - accuracy: 0.8122 - val_loss: 0.3994 - val_accuracy: 0.8358\n",
            "Epoch 160/400\n",
            "5/5 [==============================] - 0s 15ms/step - loss: 0.4285 - accuracy: 0.8106 - val_loss: 0.4040 - val_accuracy: 0.8321\n",
            "Epoch 161/400\n",
            "5/5 [==============================] - 0s 12ms/step - loss: 0.4304 - accuracy: 0.8122 - val_loss: 0.3987 - val_accuracy: 0.8321\n",
            "Epoch 162/400\n",
            "5/5 [==============================] - 0s 16ms/step - loss: 0.4293 - accuracy: 0.8186 - val_loss: 0.3985 - val_accuracy: 0.8321\n",
            "Epoch 163/400\n",
            "5/5 [==============================] - 0s 15ms/step - loss: 0.4293 - accuracy: 0.8186 - val_loss: 0.4006 - val_accuracy: 0.8321\n",
            "Epoch 164/400\n",
            "5/5 [==============================] - 0s 18ms/step - loss: 0.4275 - accuracy: 0.8138 - val_loss: 0.4019 - val_accuracy: 0.8321\n",
            "Epoch 165/400\n",
            "5/5 [==============================] - 0s 13ms/step - loss: 0.4290 - accuracy: 0.8122 - val_loss: 0.4016 - val_accuracy: 0.8321\n",
            "Epoch 166/400\n",
            "5/5 [==============================] - 0s 15ms/step - loss: 0.4307 - accuracy: 0.8138 - val_loss: 0.4008 - val_accuracy: 0.8321\n",
            "Epoch 167/400\n",
            "5/5 [==============================] - 0s 10ms/step - loss: 0.4266 - accuracy: 0.8154 - val_loss: 0.3980 - val_accuracy: 0.8358\n",
            "Epoch 168/400\n",
            "5/5 [==============================] - 0s 15ms/step - loss: 0.4269 - accuracy: 0.8154 - val_loss: 0.3986 - val_accuracy: 0.8321\n",
            "Epoch 169/400\n",
            "5/5 [==============================] - 0s 15ms/step - loss: 0.4278 - accuracy: 0.8138 - val_loss: 0.3982 - val_accuracy: 0.8321\n",
            "Epoch 170/400\n",
            "5/5 [==============================] - 0s 15ms/step - loss: 0.4274 - accuracy: 0.8170 - val_loss: 0.3997 - val_accuracy: 0.8246\n",
            "Epoch 171/400\n",
            "5/5 [==============================] - 0s 16ms/step - loss: 0.4271 - accuracy: 0.8186 - val_loss: 0.3983 - val_accuracy: 0.8321\n",
            "Epoch 172/400\n",
            "5/5 [==============================] - 0s 15ms/step - loss: 0.4286 - accuracy: 0.8218 - val_loss: 0.3978 - val_accuracy: 0.8358\n",
            "Epoch 173/400\n",
            "5/5 [==============================] - 0s 15ms/step - loss: 0.4272 - accuracy: 0.8202 - val_loss: 0.3972 - val_accuracy: 0.8358\n",
            "Epoch 174/400\n",
            "5/5 [==============================] - 0s 13ms/step - loss: 0.4266 - accuracy: 0.8186 - val_loss: 0.3980 - val_accuracy: 0.8321\n",
            "Epoch 175/400\n",
            "5/5 [==============================] - 0s 15ms/step - loss: 0.4283 - accuracy: 0.8122 - val_loss: 0.3963 - val_accuracy: 0.8358\n",
            "Epoch 176/400\n",
            "5/5 [==============================] - 0s 12ms/step - loss: 0.4306 - accuracy: 0.8202 - val_loss: 0.3985 - val_accuracy: 0.8321\n",
            "Epoch 177/400\n",
            "5/5 [==============================] - 0s 15ms/step - loss: 0.4259 - accuracy: 0.8138 - val_loss: 0.3988 - val_accuracy: 0.8284\n",
            "Epoch 178/400\n",
            "5/5 [==============================] - 0s 17ms/step - loss: 0.4278 - accuracy: 0.8186 - val_loss: 0.3961 - val_accuracy: 0.8358\n",
            "Epoch 179/400\n",
            "5/5 [==============================] - 0s 12ms/step - loss: 0.4268 - accuracy: 0.8266 - val_loss: 0.3996 - val_accuracy: 0.8246\n",
            "Epoch 180/400\n",
            "5/5 [==============================] - 0s 16ms/step - loss: 0.4288 - accuracy: 0.8154 - val_loss: 0.3980 - val_accuracy: 0.8321\n",
            "Epoch 181/400\n",
            "5/5 [==============================] - 0s 17ms/step - loss: 0.4252 - accuracy: 0.8218 - val_loss: 0.3995 - val_accuracy: 0.8321\n",
            "Epoch 182/400\n",
            "5/5 [==============================] - 0s 18ms/step - loss: 0.4269 - accuracy: 0.8170 - val_loss: 0.3973 - val_accuracy: 0.8321\n",
            "Epoch 183/400\n",
            "5/5 [==============================] - 0s 17ms/step - loss: 0.4262 - accuracy: 0.8186 - val_loss: 0.3971 - val_accuracy: 0.8321\n",
            "Epoch 184/400\n",
            "5/5 [==============================] - 0s 19ms/step - loss: 0.4267 - accuracy: 0.8186 - val_loss: 0.3960 - val_accuracy: 0.8396\n",
            "Epoch 185/400\n",
            "5/5 [==============================] - 0s 16ms/step - loss: 0.4267 - accuracy: 0.8122 - val_loss: 0.3968 - val_accuracy: 0.8321\n",
            "Epoch 186/400\n",
            "5/5 [==============================] - 0s 19ms/step - loss: 0.4255 - accuracy: 0.8186 - val_loss: 0.3959 - val_accuracy: 0.8358\n",
            "Epoch 187/400\n",
            "5/5 [==============================] - 0s 19ms/step - loss: 0.4240 - accuracy: 0.8186 - val_loss: 0.4018 - val_accuracy: 0.8246\n",
            "Epoch 188/400\n",
            "5/5 [==============================] - 0s 17ms/step - loss: 0.4252 - accuracy: 0.8186 - val_loss: 0.4033 - val_accuracy: 0.8246\n",
            "Epoch 189/400\n",
            "5/5 [==============================] - 0s 15ms/step - loss: 0.4267 - accuracy: 0.8186 - val_loss: 0.3964 - val_accuracy: 0.8321\n",
            "Epoch 190/400\n",
            "5/5 [==============================] - 0s 15ms/step - loss: 0.4259 - accuracy: 0.8154 - val_loss: 0.3990 - val_accuracy: 0.8321\n",
            "Epoch 191/400\n",
            "5/5 [==============================] - 0s 18ms/step - loss: 0.4269 - accuracy: 0.8170 - val_loss: 0.4007 - val_accuracy: 0.8246\n",
            "Epoch 192/400\n",
            "5/5 [==============================] - 0s 19ms/step - loss: 0.4244 - accuracy: 0.8186 - val_loss: 0.3968 - val_accuracy: 0.8321\n",
            "Epoch 193/400\n",
            "5/5 [==============================] - 0s 15ms/step - loss: 0.4255 - accuracy: 0.8170 - val_loss: 0.3958 - val_accuracy: 0.8396\n",
            "Epoch 194/400\n",
            "5/5 [==============================] - 0s 17ms/step - loss: 0.4261 - accuracy: 0.8154 - val_loss: 0.3967 - val_accuracy: 0.8321\n",
            "Epoch 195/400\n",
            "5/5 [==============================] - 0s 18ms/step - loss: 0.4248 - accuracy: 0.8202 - val_loss: 0.3990 - val_accuracy: 0.8321\n",
            "Epoch 196/400\n",
            "5/5 [==============================] - 0s 17ms/step - loss: 0.4250 - accuracy: 0.8202 - val_loss: 0.3962 - val_accuracy: 0.8321\n",
            "Epoch 197/400\n",
            "5/5 [==============================] - 0s 14ms/step - loss: 0.4256 - accuracy: 0.8218 - val_loss: 0.3957 - val_accuracy: 0.8396\n",
            "Epoch 198/400\n",
            "5/5 [==============================] - 0s 18ms/step - loss: 0.4247 - accuracy: 0.8170 - val_loss: 0.3944 - val_accuracy: 0.8396\n",
            "Epoch 199/400\n",
            "5/5 [==============================] - 0s 18ms/step - loss: 0.4259 - accuracy: 0.8202 - val_loss: 0.3953 - val_accuracy: 0.8396\n",
            "Epoch 200/400\n",
            "5/5 [==============================] - 0s 18ms/step - loss: 0.4264 - accuracy: 0.8138 - val_loss: 0.3963 - val_accuracy: 0.8321\n",
            "Epoch 201/400\n",
            "5/5 [==============================] - 0s 15ms/step - loss: 0.4248 - accuracy: 0.8202 - val_loss: 0.3948 - val_accuracy: 0.8396\n",
            "Epoch 202/400\n",
            "5/5 [==============================] - 0s 16ms/step - loss: 0.4251 - accuracy: 0.8186 - val_loss: 0.3988 - val_accuracy: 0.8321\n",
            "Epoch 203/400\n",
            "5/5 [==============================] - 0s 16ms/step - loss: 0.4244 - accuracy: 0.8122 - val_loss: 0.3958 - val_accuracy: 0.8321\n",
            "Epoch 204/400\n",
            "5/5 [==============================] - 0s 20ms/step - loss: 0.4266 - accuracy: 0.8218 - val_loss: 0.3973 - val_accuracy: 0.8321\n",
            "Epoch 205/400\n",
            "5/5 [==============================] - 0s 16ms/step - loss: 0.4248 - accuracy: 0.8138 - val_loss: 0.3981 - val_accuracy: 0.8284\n",
            "Epoch 206/400\n",
            "5/5 [==============================] - 0s 15ms/step - loss: 0.4255 - accuracy: 0.8170 - val_loss: 0.3974 - val_accuracy: 0.8321\n",
            "Epoch 207/400\n",
            "5/5 [==============================] - 0s 19ms/step - loss: 0.4245 - accuracy: 0.8186 - val_loss: 0.3960 - val_accuracy: 0.8321\n",
            "Epoch 208/400\n",
            "5/5 [==============================] - 0s 18ms/step - loss: 0.4262 - accuracy: 0.8202 - val_loss: 0.3959 - val_accuracy: 0.8321\n",
            "Epoch 209/400\n",
            "5/5 [==============================] - 0s 16ms/step - loss: 0.4226 - accuracy: 0.8202 - val_loss: 0.4003 - val_accuracy: 0.8284\n",
            "Epoch 210/400\n",
            "5/5 [==============================] - 0s 22ms/step - loss: 0.4240 - accuracy: 0.8186 - val_loss: 0.3963 - val_accuracy: 0.8321\n",
            "Epoch 211/400\n",
            "5/5 [==============================] - 0s 18ms/step - loss: 0.4225 - accuracy: 0.8170 - val_loss: 0.3939 - val_accuracy: 0.8396\n",
            "Epoch 212/400\n",
            "5/5 [==============================] - 0s 19ms/step - loss: 0.4257 - accuracy: 0.8154 - val_loss: 0.3964 - val_accuracy: 0.8321\n",
            "Epoch 213/400\n",
            "5/5 [==============================] - 0s 17ms/step - loss: 0.4231 - accuracy: 0.8186 - val_loss: 0.3947 - val_accuracy: 0.8358\n",
            "Epoch 214/400\n",
            "5/5 [==============================] - 0s 19ms/step - loss: 0.4238 - accuracy: 0.8154 - val_loss: 0.3955 - val_accuracy: 0.8358\n",
            "Epoch 215/400\n",
            "5/5 [==============================] - 0s 19ms/step - loss: 0.4243 - accuracy: 0.8170 - val_loss: 0.3953 - val_accuracy: 0.8358\n",
            "Epoch 216/400\n",
            "5/5 [==============================] - 0s 17ms/step - loss: 0.4223 - accuracy: 0.8186 - val_loss: 0.3963 - val_accuracy: 0.8321\n",
            "Epoch 217/400\n",
            "5/5 [==============================] - 0s 19ms/step - loss: 0.4234 - accuracy: 0.8186 - val_loss: 0.3940 - val_accuracy: 0.8396\n",
            "Epoch 218/400\n",
            "5/5 [==============================] - 0s 14ms/step - loss: 0.4247 - accuracy: 0.8218 - val_loss: 0.3983 - val_accuracy: 0.8321\n",
            "Epoch 219/400\n",
            "5/5 [==============================] - 0s 22ms/step - loss: 0.4234 - accuracy: 0.8202 - val_loss: 0.3975 - val_accuracy: 0.8321\n",
            "Epoch 220/400\n",
            "5/5 [==============================] - 0s 19ms/step - loss: 0.4226 - accuracy: 0.8138 - val_loss: 0.4029 - val_accuracy: 0.8321\n",
            "Epoch 221/400\n",
            "5/5 [==============================] - 0s 19ms/step - loss: 0.4251 - accuracy: 0.8218 - val_loss: 0.3957 - val_accuracy: 0.8321\n",
            "Epoch 222/400\n",
            "5/5 [==============================] - 0s 19ms/step - loss: 0.4234 - accuracy: 0.8202 - val_loss: 0.3980 - val_accuracy: 0.8209\n",
            "Epoch 223/400\n",
            "5/5 [==============================] - 0s 19ms/step - loss: 0.4234 - accuracy: 0.8186 - val_loss: 0.3952 - val_accuracy: 0.8321\n",
            "Epoch 224/400\n",
            "5/5 [==============================] - 0s 19ms/step - loss: 0.4229 - accuracy: 0.8202 - val_loss: 0.3951 - val_accuracy: 0.8358\n",
            "Epoch 225/400\n",
            "5/5 [==============================] - 0s 19ms/step - loss: 0.4245 - accuracy: 0.8138 - val_loss: 0.3951 - val_accuracy: 0.8321\n",
            "Epoch 226/400\n",
            "5/5 [==============================] - 0s 17ms/step - loss: 0.4213 - accuracy: 0.8186 - val_loss: 0.3993 - val_accuracy: 0.8321\n",
            "Epoch 227/400\n",
            "5/5 [==============================] - 0s 11ms/step - loss: 0.4217 - accuracy: 0.8186 - val_loss: 0.3941 - val_accuracy: 0.8396\n",
            "Epoch 228/400\n",
            "5/5 [==============================] - 0s 15ms/step - loss: 0.4226 - accuracy: 0.8202 - val_loss: 0.3973 - val_accuracy: 0.8321\n",
            "Epoch 229/400\n",
            "5/5 [==============================] - 0s 15ms/step - loss: 0.4226 - accuracy: 0.8186 - val_loss: 0.3953 - val_accuracy: 0.8358\n",
            "Epoch 230/400\n",
            "5/5 [==============================] - 0s 11ms/step - loss: 0.4240 - accuracy: 0.8202 - val_loss: 0.3936 - val_accuracy: 0.8396\n",
            "Epoch 231/400\n",
            "5/5 [==============================] - 0s 14ms/step - loss: 0.4224 - accuracy: 0.8202 - val_loss: 0.3949 - val_accuracy: 0.8396\n",
            "Epoch 232/400\n",
            "5/5 [==============================] - 0s 11ms/step - loss: 0.4214 - accuracy: 0.8186 - val_loss: 0.3953 - val_accuracy: 0.8433\n",
            "Epoch 233/400\n",
            "5/5 [==============================] - 0s 15ms/step - loss: 0.4213 - accuracy: 0.8202 - val_loss: 0.3996 - val_accuracy: 0.8209\n",
            "Epoch 234/400\n",
            "5/5 [==============================] - 0s 20ms/step - loss: 0.4254 - accuracy: 0.8186 - val_loss: 0.3950 - val_accuracy: 0.8358\n",
            "Epoch 235/400\n",
            "5/5 [==============================] - 0s 11ms/step - loss: 0.4217 - accuracy: 0.8202 - val_loss: 0.3930 - val_accuracy: 0.8396\n",
            "Epoch 236/400\n",
            "5/5 [==============================] - 0s 18ms/step - loss: 0.4238 - accuracy: 0.8154 - val_loss: 0.3950 - val_accuracy: 0.8433\n",
            "Epoch 237/400\n",
            "5/5 [==============================] - 0s 17ms/step - loss: 0.4222 - accuracy: 0.8218 - val_loss: 0.3944 - val_accuracy: 0.8433\n",
            "Epoch 238/400\n",
            "5/5 [==============================] - 0s 12ms/step - loss: 0.4212 - accuracy: 0.8234 - val_loss: 0.3943 - val_accuracy: 0.8358\n",
            "Epoch 239/400\n",
            "5/5 [==============================] - 0s 16ms/step - loss: 0.4220 - accuracy: 0.8250 - val_loss: 0.3953 - val_accuracy: 0.8358\n",
            "Epoch 240/400\n",
            "5/5 [==============================] - 0s 14ms/step - loss: 0.4251 - accuracy: 0.8122 - val_loss: 0.3943 - val_accuracy: 0.8396\n",
            "Epoch 241/400\n",
            "5/5 [==============================] - 0s 11ms/step - loss: 0.4214 - accuracy: 0.8138 - val_loss: 0.3944 - val_accuracy: 0.8433\n",
            "Epoch 242/400\n",
            "5/5 [==============================] - 0s 11ms/step - loss: 0.4230 - accuracy: 0.8186 - val_loss: 0.3964 - val_accuracy: 0.8358\n",
            "Epoch 243/400\n",
            "5/5 [==============================] - 0s 15ms/step - loss: 0.4211 - accuracy: 0.8218 - val_loss: 0.3999 - val_accuracy: 0.8209\n",
            "Epoch 244/400\n",
            "5/5 [==============================] - 0s 15ms/step - loss: 0.4224 - accuracy: 0.8170 - val_loss: 0.3961 - val_accuracy: 0.8358\n",
            "Epoch 245/400\n",
            "5/5 [==============================] - 0s 15ms/step - loss: 0.4231 - accuracy: 0.8186 - val_loss: 0.3949 - val_accuracy: 0.8358\n",
            "Epoch 246/400\n",
            "5/5 [==============================] - 0s 11ms/step - loss: 0.4223 - accuracy: 0.8186 - val_loss: 0.3957 - val_accuracy: 0.8358\n",
            "Epoch 247/400\n",
            "5/5 [==============================] - 0s 15ms/step - loss: 0.4217 - accuracy: 0.8154 - val_loss: 0.3971 - val_accuracy: 0.8358\n",
            "Epoch 248/400\n",
            "5/5 [==============================] - 0s 16ms/step - loss: 0.4220 - accuracy: 0.8218 - val_loss: 0.3955 - val_accuracy: 0.8396\n",
            "Epoch 249/400\n",
            "5/5 [==============================] - 0s 14ms/step - loss: 0.4222 - accuracy: 0.8170 - val_loss: 0.3962 - val_accuracy: 0.8358\n",
            "Epoch 250/400\n",
            "5/5 [==============================] - 0s 12ms/step - loss: 0.4224 - accuracy: 0.8138 - val_loss: 0.3963 - val_accuracy: 0.8321\n",
            "Epoch 251/400\n",
            "5/5 [==============================] - 0s 12ms/step - loss: 0.4218 - accuracy: 0.8186 - val_loss: 0.3963 - val_accuracy: 0.8358\n",
            "Epoch 252/400\n",
            "5/5 [==============================] - 0s 17ms/step - loss: 0.4219 - accuracy: 0.8202 - val_loss: 0.3985 - val_accuracy: 0.8209\n",
            "Epoch 253/400\n",
            "5/5 [==============================] - 0s 11ms/step - loss: 0.4212 - accuracy: 0.8122 - val_loss: 0.3984 - val_accuracy: 0.8358\n",
            "Epoch 254/400\n",
            "5/5 [==============================] - 0s 15ms/step - loss: 0.4235 - accuracy: 0.8186 - val_loss: 0.3966 - val_accuracy: 0.8358\n",
            "Epoch 255/400\n",
            "5/5 [==============================] - 0s 11ms/step - loss: 0.4210 - accuracy: 0.8202 - val_loss: 0.3998 - val_accuracy: 0.8358\n",
            "Epoch 256/400\n",
            "5/5 [==============================] - 0s 13ms/step - loss: 0.4208 - accuracy: 0.8202 - val_loss: 0.3935 - val_accuracy: 0.8396\n",
            "Epoch 257/400\n",
            "5/5 [==============================] - 0s 16ms/step - loss: 0.4212 - accuracy: 0.8250 - val_loss: 0.3966 - val_accuracy: 0.8396\n",
            "Epoch 258/400\n",
            "5/5 [==============================] - 0s 11ms/step - loss: 0.4218 - accuracy: 0.8186 - val_loss: 0.3933 - val_accuracy: 0.8396\n",
            "Epoch 259/400\n",
            "5/5 [==============================] - 0s 11ms/step - loss: 0.4211 - accuracy: 0.8138 - val_loss: 0.3979 - val_accuracy: 0.8396\n",
            "Epoch 260/400\n",
            "5/5 [==============================] - 0s 12ms/step - loss: 0.4206 - accuracy: 0.8250 - val_loss: 0.3926 - val_accuracy: 0.8396\n",
            "Epoch 261/400\n",
            "5/5 [==============================] - 0s 17ms/step - loss: 0.4221 - accuracy: 0.8250 - val_loss: 0.3930 - val_accuracy: 0.8396\n",
            "Epoch 262/400\n",
            "5/5 [==============================] - 0s 17ms/step - loss: 0.4218 - accuracy: 0.8170 - val_loss: 0.3924 - val_accuracy: 0.8396\n",
            "Epoch 263/400\n",
            "5/5 [==============================] - 0s 15ms/step - loss: 0.4211 - accuracy: 0.8202 - val_loss: 0.3949 - val_accuracy: 0.8358\n",
            "Epoch 264/400\n",
            "5/5 [==============================] - 0s 12ms/step - loss: 0.4212 - accuracy: 0.8186 - val_loss: 0.3980 - val_accuracy: 0.8358\n",
            "Epoch 265/400\n",
            "5/5 [==============================] - 0s 13ms/step - loss: 0.4217 - accuracy: 0.8170 - val_loss: 0.3948 - val_accuracy: 0.8396\n",
            "Epoch 266/400\n",
            "5/5 [==============================] - 0s 17ms/step - loss: 0.4206 - accuracy: 0.8202 - val_loss: 0.4014 - val_accuracy: 0.8209\n",
            "Epoch 267/400\n",
            "5/5 [==============================] - 0s 12ms/step - loss: 0.4202 - accuracy: 0.8234 - val_loss: 0.3930 - val_accuracy: 0.8433\n",
            "Epoch 268/400\n",
            "5/5 [==============================] - 0s 13ms/step - loss: 0.4214 - accuracy: 0.8154 - val_loss: 0.3931 - val_accuracy: 0.8396\n",
            "Epoch 269/400\n",
            "5/5 [==============================] - 0s 13ms/step - loss: 0.4204 - accuracy: 0.8170 - val_loss: 0.3941 - val_accuracy: 0.8396\n",
            "Epoch 270/400\n",
            "5/5 [==============================] - 0s 12ms/step - loss: 0.4204 - accuracy: 0.8170 - val_loss: 0.3952 - val_accuracy: 0.8358\n",
            "Epoch 271/400\n",
            "5/5 [==============================] - 0s 11ms/step - loss: 0.4206 - accuracy: 0.8202 - val_loss: 0.3929 - val_accuracy: 0.8396\n",
            "Epoch 272/400\n",
            "5/5 [==============================] - 0s 16ms/step - loss: 0.4205 - accuracy: 0.8202 - val_loss: 0.3952 - val_accuracy: 0.8396\n",
            "Epoch 273/400\n",
            "5/5 [==============================] - 0s 15ms/step - loss: 0.4193 - accuracy: 0.8234 - val_loss: 0.3988 - val_accuracy: 0.8396\n",
            "Epoch 274/400\n",
            "5/5 [==============================] - 0s 12ms/step - loss: 0.4214 - accuracy: 0.8170 - val_loss: 0.3932 - val_accuracy: 0.8396\n",
            "Epoch 275/400\n",
            "5/5 [==============================] - 0s 19ms/step - loss: 0.4234 - accuracy: 0.8202 - val_loss: 0.3939 - val_accuracy: 0.8396\n",
            "Epoch 276/400\n",
            "5/5 [==============================] - 0s 12ms/step - loss: 0.4207 - accuracy: 0.8154 - val_loss: 0.3947 - val_accuracy: 0.8396\n",
            "Epoch 277/400\n",
            "5/5 [==============================] - 0s 16ms/step - loss: 0.4203 - accuracy: 0.8202 - val_loss: 0.3960 - val_accuracy: 0.8321\n",
            "Epoch 278/400\n",
            "5/5 [==============================] - 0s 16ms/step - loss: 0.4197 - accuracy: 0.8202 - val_loss: 0.3939 - val_accuracy: 0.8396\n",
            "Epoch 279/400\n",
            "5/5 [==============================] - 0s 17ms/step - loss: 0.4207 - accuracy: 0.8186 - val_loss: 0.3984 - val_accuracy: 0.8321\n",
            "Epoch 280/400\n",
            "5/5 [==============================] - 0s 12ms/step - loss: 0.4204 - accuracy: 0.8234 - val_loss: 0.3971 - val_accuracy: 0.8246\n",
            "Epoch 281/400\n",
            "5/5 [==============================] - 0s 14ms/step - loss: 0.4179 - accuracy: 0.8138 - val_loss: 0.3946 - val_accuracy: 0.8396\n",
            "Epoch 282/400\n",
            "5/5 [==============================] - 0s 17ms/step - loss: 0.4210 - accuracy: 0.8218 - val_loss: 0.3931 - val_accuracy: 0.8396\n",
            "Epoch 283/400\n",
            "5/5 [==============================] - 0s 17ms/step - loss: 0.4190 - accuracy: 0.8202 - val_loss: 0.3952 - val_accuracy: 0.8358\n",
            "Epoch 284/400\n",
            "5/5 [==============================] - 0s 14ms/step - loss: 0.4215 - accuracy: 0.8266 - val_loss: 0.3943 - val_accuracy: 0.8321\n",
            "Epoch 285/400\n",
            "5/5 [==============================] - 0s 11ms/step - loss: 0.4179 - accuracy: 0.8234 - val_loss: 0.3958 - val_accuracy: 0.8321\n",
            "Epoch 286/400\n",
            "5/5 [==============================] - 0s 13ms/step - loss: 0.4188 - accuracy: 0.8234 - val_loss: 0.3981 - val_accuracy: 0.8358\n",
            "Epoch 287/400\n",
            "5/5 [==============================] - 0s 12ms/step - loss: 0.4220 - accuracy: 0.8186 - val_loss: 0.3967 - val_accuracy: 0.8396\n",
            "Epoch 288/400\n",
            "5/5 [==============================] - 0s 12ms/step - loss: 0.4181 - accuracy: 0.8202 - val_loss: 0.3930 - val_accuracy: 0.8396\n",
            "Epoch 289/400\n",
            "5/5 [==============================] - 0s 13ms/step - loss: 0.4215 - accuracy: 0.8250 - val_loss: 0.3945 - val_accuracy: 0.8358\n",
            "Epoch 290/400\n",
            "5/5 [==============================] - 0s 13ms/step - loss: 0.4217 - accuracy: 0.8234 - val_loss: 0.3924 - val_accuracy: 0.8396\n",
            "Epoch 291/400\n",
            "5/5 [==============================] - 0s 13ms/step - loss: 0.4181 - accuracy: 0.8234 - val_loss: 0.3936 - val_accuracy: 0.8396\n",
            "Epoch 292/400\n",
            "5/5 [==============================] - 0s 15ms/step - loss: 0.4191 - accuracy: 0.8234 - val_loss: 0.3916 - val_accuracy: 0.8396\n",
            "Epoch 293/400\n",
            "5/5 [==============================] - 0s 16ms/step - loss: 0.4186 - accuracy: 0.8266 - val_loss: 0.3935 - val_accuracy: 0.8396\n",
            "Epoch 294/400\n",
            "5/5 [==============================] - 0s 17ms/step - loss: 0.4190 - accuracy: 0.8186 - val_loss: 0.3980 - val_accuracy: 0.8358\n",
            "Epoch 295/400\n",
            "5/5 [==============================] - 0s 19ms/step - loss: 0.4192 - accuracy: 0.8186 - val_loss: 0.3929 - val_accuracy: 0.8396\n",
            "Epoch 296/400\n",
            "5/5 [==============================] - 0s 16ms/step - loss: 0.4191 - accuracy: 0.8234 - val_loss: 0.3964 - val_accuracy: 0.8358\n",
            "Epoch 297/400\n",
            "5/5 [==============================] - 0s 17ms/step - loss: 0.4229 - accuracy: 0.8186 - val_loss: 0.3939 - val_accuracy: 0.8358\n",
            "Epoch 298/400\n",
            "5/5 [==============================] - 0s 17ms/step - loss: 0.4193 - accuracy: 0.8218 - val_loss: 0.3929 - val_accuracy: 0.8396\n",
            "Epoch 299/400\n",
            "5/5 [==============================] - 0s 15ms/step - loss: 0.4183 - accuracy: 0.8234 - val_loss: 0.3945 - val_accuracy: 0.8358\n",
            "Epoch 300/400\n",
            "5/5 [==============================] - 0s 15ms/step - loss: 0.4192 - accuracy: 0.8202 - val_loss: 0.3949 - val_accuracy: 0.8396\n",
            "Epoch 301/400\n",
            "5/5 [==============================] - 0s 15ms/step - loss: 0.4196 - accuracy: 0.8106 - val_loss: 0.3925 - val_accuracy: 0.8396\n",
            "Epoch 302/400\n",
            "5/5 [==============================] - 0s 15ms/step - loss: 0.4205 - accuracy: 0.8218 - val_loss: 0.3931 - val_accuracy: 0.8396\n",
            "Epoch 303/400\n",
            "5/5 [==============================] - 0s 14ms/step - loss: 0.4172 - accuracy: 0.8218 - val_loss: 0.3949 - val_accuracy: 0.8358\n",
            "Epoch 304/400\n",
            "5/5 [==============================] - 0s 18ms/step - loss: 0.4206 - accuracy: 0.8170 - val_loss: 0.3959 - val_accuracy: 0.8321\n",
            "Epoch 305/400\n",
            "5/5 [==============================] - 0s 16ms/step - loss: 0.4195 - accuracy: 0.8154 - val_loss: 0.3935 - val_accuracy: 0.8396\n",
            "Epoch 306/400\n",
            "5/5 [==============================] - 0s 16ms/step - loss: 0.4198 - accuracy: 0.8202 - val_loss: 0.3922 - val_accuracy: 0.8396\n",
            "Epoch 307/400\n",
            "5/5 [==============================] - 0s 18ms/step - loss: 0.4184 - accuracy: 0.8202 - val_loss: 0.3940 - val_accuracy: 0.8396\n",
            "Epoch 308/400\n",
            "5/5 [==============================] - 0s 13ms/step - loss: 0.4209 - accuracy: 0.8186 - val_loss: 0.3932 - val_accuracy: 0.8396\n",
            "Epoch 309/400\n",
            "5/5 [==============================] - 0s 12ms/step - loss: 0.4194 - accuracy: 0.8202 - val_loss: 0.3987 - val_accuracy: 0.8284\n",
            "Epoch 310/400\n",
            "5/5 [==============================] - 0s 16ms/step - loss: 0.4206 - accuracy: 0.8106 - val_loss: 0.3941 - val_accuracy: 0.8358\n",
            "Epoch 311/400\n",
            "5/5 [==============================] - 0s 14ms/step - loss: 0.4189 - accuracy: 0.8186 - val_loss: 0.3930 - val_accuracy: 0.8396\n",
            "Epoch 312/400\n",
            "5/5 [==============================] - 0s 15ms/step - loss: 0.4187 - accuracy: 0.8218 - val_loss: 0.3928 - val_accuracy: 0.8396\n",
            "Epoch 313/400\n",
            "5/5 [==============================] - 0s 16ms/step - loss: 0.4170 - accuracy: 0.8218 - val_loss: 0.3933 - val_accuracy: 0.8396\n",
            "Epoch 314/400\n",
            "5/5 [==============================] - 0s 15ms/step - loss: 0.4186 - accuracy: 0.8218 - val_loss: 0.3984 - val_accuracy: 0.8358\n",
            "Epoch 315/400\n",
            "5/5 [==============================] - 0s 12ms/step - loss: 0.4214 - accuracy: 0.8186 - val_loss: 0.3989 - val_accuracy: 0.8358\n",
            "Epoch 316/400\n",
            "5/5 [==============================] - 0s 13ms/step - loss: 0.4209 - accuracy: 0.8234 - val_loss: 0.3978 - val_accuracy: 0.8246\n",
            "Epoch 317/400\n",
            "5/5 [==============================] - 0s 16ms/step - loss: 0.4178 - accuracy: 0.8218 - val_loss: 0.3944 - val_accuracy: 0.8396\n",
            "Epoch 318/400\n",
            "5/5 [==============================] - 0s 17ms/step - loss: 0.4179 - accuracy: 0.8186 - val_loss: 0.3928 - val_accuracy: 0.8396\n",
            "Epoch 319/400\n",
            "5/5 [==============================] - 0s 14ms/step - loss: 0.4182 - accuracy: 0.8315 - val_loss: 0.3975 - val_accuracy: 0.8358\n",
            "Epoch 320/400\n",
            "5/5 [==============================] - 0s 12ms/step - loss: 0.4180 - accuracy: 0.8186 - val_loss: 0.3930 - val_accuracy: 0.8396\n",
            "Epoch 321/400\n",
            "5/5 [==============================] - 0s 18ms/step - loss: 0.4200 - accuracy: 0.8186 - val_loss: 0.3929 - val_accuracy: 0.8396\n",
            "Epoch 322/400\n",
            "5/5 [==============================] - 0s 15ms/step - loss: 0.4196 - accuracy: 0.8154 - val_loss: 0.3960 - val_accuracy: 0.8358\n",
            "Epoch 323/400\n",
            "5/5 [==============================] - 0s 13ms/step - loss: 0.4193 - accuracy: 0.8202 - val_loss: 0.3926 - val_accuracy: 0.8396\n",
            "Epoch 324/400\n",
            "5/5 [==============================] - 0s 18ms/step - loss: 0.4186 - accuracy: 0.8250 - val_loss: 0.3940 - val_accuracy: 0.8358\n",
            "Epoch 325/400\n",
            "5/5 [==============================] - 0s 16ms/step - loss: 0.4192 - accuracy: 0.8186 - val_loss: 0.3940 - val_accuracy: 0.8358\n",
            "Epoch 326/400\n",
            "5/5 [==============================] - 0s 13ms/step - loss: 0.4198 - accuracy: 0.8218 - val_loss: 0.3926 - val_accuracy: 0.8396\n",
            "Epoch 327/400\n",
            "5/5 [==============================] - 0s 14ms/step - loss: 0.4178 - accuracy: 0.8266 - val_loss: 0.3970 - val_accuracy: 0.8358\n",
            "Epoch 328/400\n",
            "5/5 [==============================] - 0s 12ms/step - loss: 0.4188 - accuracy: 0.8138 - val_loss: 0.3925 - val_accuracy: 0.8396\n",
            "Epoch 329/400\n",
            "5/5 [==============================] - 0s 15ms/step - loss: 0.4190 - accuracy: 0.8202 - val_loss: 0.3922 - val_accuracy: 0.8396\n",
            "Epoch 330/400\n",
            "5/5 [==============================] - 0s 13ms/step - loss: 0.4163 - accuracy: 0.8283 - val_loss: 0.3974 - val_accuracy: 0.8358\n",
            "Epoch 331/400\n",
            "5/5 [==============================] - 0s 16ms/step - loss: 0.4197 - accuracy: 0.8266 - val_loss: 0.3934 - val_accuracy: 0.8358\n",
            "Epoch 332/400\n",
            "5/5 [==============================] - 0s 13ms/step - loss: 0.4184 - accuracy: 0.8250 - val_loss: 0.3939 - val_accuracy: 0.8358\n",
            "Epoch 333/400\n",
            "5/5 [==============================] - 0s 17ms/step - loss: 0.4156 - accuracy: 0.8234 - val_loss: 0.3943 - val_accuracy: 0.8358\n",
            "Epoch 334/400\n",
            "5/5 [==============================] - 0s 12ms/step - loss: 0.4182 - accuracy: 0.8170 - val_loss: 0.3967 - val_accuracy: 0.8358\n",
            "Epoch 335/400\n",
            "5/5 [==============================] - 0s 12ms/step - loss: 0.4193 - accuracy: 0.8250 - val_loss: 0.3959 - val_accuracy: 0.8358\n",
            "Epoch 336/400\n",
            "5/5 [==============================] - 0s 16ms/step - loss: 0.4166 - accuracy: 0.8234 - val_loss: 0.3925 - val_accuracy: 0.8358\n",
            "Epoch 337/400\n",
            "5/5 [==============================] - 0s 11ms/step - loss: 0.4193 - accuracy: 0.8170 - val_loss: 0.3946 - val_accuracy: 0.8358\n",
            "Epoch 338/400\n",
            "5/5 [==============================] - 0s 15ms/step - loss: 0.4164 - accuracy: 0.8234 - val_loss: 0.3921 - val_accuracy: 0.8396\n",
            "Epoch 339/400\n",
            "5/5 [==============================] - 0s 16ms/step - loss: 0.4166 - accuracy: 0.8170 - val_loss: 0.3961 - val_accuracy: 0.8358\n",
            "Epoch 340/400\n",
            "5/5 [==============================] - 0s 12ms/step - loss: 0.4172 - accuracy: 0.8283 - val_loss: 0.3942 - val_accuracy: 0.8358\n",
            "Epoch 341/400\n",
            "5/5 [==============================] - 0s 16ms/step - loss: 0.4180 - accuracy: 0.8202 - val_loss: 0.3916 - val_accuracy: 0.8396\n",
            "Epoch 342/400\n",
            "5/5 [==============================] - 0s 13ms/step - loss: 0.4174 - accuracy: 0.8250 - val_loss: 0.3918 - val_accuracy: 0.8396\n",
            "Epoch 343/400\n",
            "5/5 [==============================] - 0s 15ms/step - loss: 0.4166 - accuracy: 0.8250 - val_loss: 0.3953 - val_accuracy: 0.8358\n",
            "Epoch 344/400\n",
            "5/5 [==============================] - 0s 14ms/step - loss: 0.4187 - accuracy: 0.8250 - val_loss: 0.3924 - val_accuracy: 0.8358\n",
            "Epoch 345/400\n",
            "5/5 [==============================] - 0s 17ms/step - loss: 0.4172 - accuracy: 0.8234 - val_loss: 0.3952 - val_accuracy: 0.8358\n",
            "Epoch 346/400\n",
            "5/5 [==============================] - 0s 18ms/step - loss: 0.4165 - accuracy: 0.8250 - val_loss: 0.3929 - val_accuracy: 0.8358\n",
            "Epoch 347/400\n",
            "5/5 [==============================] - 0s 16ms/step - loss: 0.4158 - accuracy: 0.8218 - val_loss: 0.3946 - val_accuracy: 0.8396\n",
            "Epoch 348/400\n",
            "5/5 [==============================] - 0s 18ms/step - loss: 0.4164 - accuracy: 0.8218 - val_loss: 0.3993 - val_accuracy: 0.8358\n",
            "Epoch 349/400\n",
            "5/5 [==============================] - 0s 16ms/step - loss: 0.4163 - accuracy: 0.8202 - val_loss: 0.3929 - val_accuracy: 0.8396\n",
            "Epoch 350/400\n",
            "5/5 [==============================] - 0s 14ms/step - loss: 0.4168 - accuracy: 0.8170 - val_loss: 0.4012 - val_accuracy: 0.8358\n",
            "Epoch 351/400\n",
            "5/5 [==============================] - 0s 12ms/step - loss: 0.4174 - accuracy: 0.8234 - val_loss: 0.3991 - val_accuracy: 0.8396\n",
            "Epoch 352/400\n",
            "5/5 [==============================] - 0s 14ms/step - loss: 0.4161 - accuracy: 0.8202 - val_loss: 0.3964 - val_accuracy: 0.8358\n",
            "Epoch 353/400\n",
            "5/5 [==============================] - 0s 13ms/step - loss: 0.4179 - accuracy: 0.8218 - val_loss: 0.3967 - val_accuracy: 0.8358\n",
            "Epoch 354/400\n",
            "5/5 [==============================] - 0s 12ms/step - loss: 0.4162 - accuracy: 0.8250 - val_loss: 0.3931 - val_accuracy: 0.8321\n",
            "Epoch 355/400\n",
            "5/5 [==============================] - 0s 18ms/step - loss: 0.4199 - accuracy: 0.8218 - val_loss: 0.3932 - val_accuracy: 0.8358\n",
            "Epoch 356/400\n",
            "5/5 [==============================] - 0s 16ms/step - loss: 0.4161 - accuracy: 0.8234 - val_loss: 0.3956 - val_accuracy: 0.8358\n",
            "Epoch 357/400\n",
            "5/5 [==============================] - 0s 12ms/step - loss: 0.4185 - accuracy: 0.8186 - val_loss: 0.3953 - val_accuracy: 0.8358\n",
            "Epoch 358/400\n",
            "5/5 [==============================] - 0s 13ms/step - loss: 0.4167 - accuracy: 0.8154 - val_loss: 0.3944 - val_accuracy: 0.8358\n",
            "Epoch 359/400\n",
            "5/5 [==============================] - 0s 13ms/step - loss: 0.4152 - accuracy: 0.8234 - val_loss: 0.3925 - val_accuracy: 0.8396\n",
            "Epoch 360/400\n",
            "5/5 [==============================] - 0s 17ms/step - loss: 0.4169 - accuracy: 0.8218 - val_loss: 0.3918 - val_accuracy: 0.8396\n",
            "Epoch 361/400\n",
            "5/5 [==============================] - 0s 16ms/step - loss: 0.4159 - accuracy: 0.8266 - val_loss: 0.3908 - val_accuracy: 0.8396\n",
            "Epoch 362/400\n",
            "5/5 [==============================] - 0s 19ms/step - loss: 0.4170 - accuracy: 0.8266 - val_loss: 0.3928 - val_accuracy: 0.8358\n",
            "Epoch 363/400\n",
            "5/5 [==============================] - 0s 16ms/step - loss: 0.4172 - accuracy: 0.8218 - val_loss: 0.3919 - val_accuracy: 0.8396\n",
            "Epoch 364/400\n",
            "5/5 [==============================] - 0s 20ms/step - loss: 0.4192 - accuracy: 0.8138 - val_loss: 0.3940 - val_accuracy: 0.8358\n",
            "Epoch 365/400\n",
            "5/5 [==============================] - 0s 18ms/step - loss: 0.4154 - accuracy: 0.8202 - val_loss: 0.3912 - val_accuracy: 0.8396\n",
            "Epoch 366/400\n",
            "5/5 [==============================] - 0s 20ms/step - loss: 0.4153 - accuracy: 0.8170 - val_loss: 0.3929 - val_accuracy: 0.8358\n",
            "Epoch 367/400\n",
            "5/5 [==============================] - 0s 25ms/step - loss: 0.4178 - accuracy: 0.8218 - val_loss: 0.3955 - val_accuracy: 0.8358\n",
            "Epoch 368/400\n",
            "5/5 [==============================] - 0s 21ms/step - loss: 0.4187 - accuracy: 0.8234 - val_loss: 0.3976 - val_accuracy: 0.8284\n",
            "Epoch 369/400\n",
            "5/5 [==============================] - 0s 18ms/step - loss: 0.4152 - accuracy: 0.8218 - val_loss: 0.3932 - val_accuracy: 0.8358\n",
            "Epoch 370/400\n",
            "5/5 [==============================] - 0s 18ms/step - loss: 0.4166 - accuracy: 0.8234 - val_loss: 0.3944 - val_accuracy: 0.8358\n",
            "Epoch 371/400\n",
            "5/5 [==============================] - 0s 20ms/step - loss: 0.4149 - accuracy: 0.8234 - val_loss: 0.3962 - val_accuracy: 0.8358\n",
            "Epoch 372/400\n",
            "5/5 [==============================] - 0s 20ms/step - loss: 0.4161 - accuracy: 0.8202 - val_loss: 0.3914 - val_accuracy: 0.8396\n",
            "Epoch 373/400\n",
            "5/5 [==============================] - 0s 19ms/step - loss: 0.4142 - accuracy: 0.8250 - val_loss: 0.3982 - val_accuracy: 0.8358\n",
            "Epoch 374/400\n",
            "5/5 [==============================] - 0s 22ms/step - loss: 0.4190 - accuracy: 0.8218 - val_loss: 0.3992 - val_accuracy: 0.8358\n",
            "Epoch 375/400\n",
            "5/5 [==============================] - 0s 24ms/step - loss: 0.4172 - accuracy: 0.8234 - val_loss: 0.4001 - val_accuracy: 0.8358\n",
            "Epoch 376/400\n",
            "5/5 [==============================] - 0s 25ms/step - loss: 0.4186 - accuracy: 0.8170 - val_loss: 0.3923 - val_accuracy: 0.8358\n",
            "Epoch 377/400\n",
            "5/5 [==============================] - 0s 19ms/step - loss: 0.4142 - accuracy: 0.8218 - val_loss: 0.3946 - val_accuracy: 0.8358\n",
            "Epoch 378/400\n",
            "5/5 [==============================] - 0s 19ms/step - loss: 0.4159 - accuracy: 0.8266 - val_loss: 0.3947 - val_accuracy: 0.8358\n",
            "Epoch 379/400\n",
            "5/5 [==============================] - 0s 19ms/step - loss: 0.4141 - accuracy: 0.8218 - val_loss: 0.3937 - val_accuracy: 0.8358\n",
            "Epoch 380/400\n",
            "5/5 [==============================] - 0s 20ms/step - loss: 0.4144 - accuracy: 0.8218 - val_loss: 0.3937 - val_accuracy: 0.8358\n",
            "Epoch 381/400\n",
            "5/5 [==============================] - 0s 14ms/step - loss: 0.4141 - accuracy: 0.8218 - val_loss: 0.3966 - val_accuracy: 0.8358\n",
            "Epoch 382/400\n",
            "5/5 [==============================] - 0s 23ms/step - loss: 0.4175 - accuracy: 0.8234 - val_loss: 0.3970 - val_accuracy: 0.8358\n",
            "Epoch 383/400\n",
            "5/5 [==============================] - 0s 21ms/step - loss: 0.4177 - accuracy: 0.8202 - val_loss: 0.3961 - val_accuracy: 0.8358\n",
            "Epoch 384/400\n",
            "5/5 [==============================] - 0s 17ms/step - loss: 0.4145 - accuracy: 0.8315 - val_loss: 0.3926 - val_accuracy: 0.8321\n",
            "Epoch 385/400\n",
            "5/5 [==============================] - 0s 19ms/step - loss: 0.4147 - accuracy: 0.8218 - val_loss: 0.3944 - val_accuracy: 0.8358\n",
            "Epoch 386/400\n",
            "5/5 [==============================] - 0s 24ms/step - loss: 0.4153 - accuracy: 0.8266 - val_loss: 0.3934 - val_accuracy: 0.8358\n",
            "Epoch 387/400\n",
            "5/5 [==============================] - 0s 17ms/step - loss: 0.4161 - accuracy: 0.8202 - val_loss: 0.3932 - val_accuracy: 0.8358\n",
            "Epoch 388/400\n",
            "5/5 [==============================] - 0s 17ms/step - loss: 0.4162 - accuracy: 0.8202 - val_loss: 0.3921 - val_accuracy: 0.8396\n",
            "Epoch 389/400\n",
            "5/5 [==============================] - 0s 23ms/step - loss: 0.4149 - accuracy: 0.8266 - val_loss: 0.3923 - val_accuracy: 0.8321\n",
            "Epoch 390/400\n",
            "5/5 [==============================] - 0s 17ms/step - loss: 0.4147 - accuracy: 0.8218 - val_loss: 0.3941 - val_accuracy: 0.8358\n",
            "Epoch 391/400\n",
            "5/5 [==============================] - 0s 18ms/step - loss: 0.4173 - accuracy: 0.8250 - val_loss: 0.3926 - val_accuracy: 0.8321\n",
            "Epoch 392/400\n",
            "5/5 [==============================] - 0s 16ms/step - loss: 0.4170 - accuracy: 0.8250 - val_loss: 0.3955 - val_accuracy: 0.8358\n",
            "Epoch 393/400\n",
            "5/5 [==============================] - 0s 21ms/step - loss: 0.4154 - accuracy: 0.8234 - val_loss: 0.3931 - val_accuracy: 0.8358\n",
            "Epoch 394/400\n",
            "5/5 [==============================] - 0s 23ms/step - loss: 0.4152 - accuracy: 0.8234 - val_loss: 0.3927 - val_accuracy: 0.8358\n",
            "Epoch 395/400\n",
            "5/5 [==============================] - 0s 22ms/step - loss: 0.4188 - accuracy: 0.8202 - val_loss: 0.3947 - val_accuracy: 0.8358\n",
            "Epoch 396/400\n",
            "5/5 [==============================] - 0s 20ms/step - loss: 0.4145 - accuracy: 0.8234 - val_loss: 0.3947 - val_accuracy: 0.8358\n",
            "Epoch 397/400\n",
            "5/5 [==============================] - 0s 23ms/step - loss: 0.4149 - accuracy: 0.8202 - val_loss: 0.3946 - val_accuracy: 0.8358\n",
            "Epoch 398/400\n",
            "5/5 [==============================] - 0s 24ms/step - loss: 0.4155 - accuracy: 0.8250 - val_loss: 0.3937 - val_accuracy: 0.8321\n",
            "Epoch 399/400\n",
            "5/5 [==============================] - 0s 17ms/step - loss: 0.4160 - accuracy: 0.8283 - val_loss: 0.3965 - val_accuracy: 0.8358\n",
            "Epoch 400/400\n",
            "5/5 [==============================] - 0s 18ms/step - loss: 0.4136 - accuracy: 0.8234 - val_loss: 0.3927 - val_accuracy: 0.8396\n"
          ]
        }
      ]
    },
    {
      "cell_type": "code",
      "source": [
        "import matplotlib.pyplot as plt\n",
        "\n",
        "def drawHistory(hist):\n",
        "  fig = plt.figure(figsize=(15,10))   # 10x15 크기의 figure 생성\n",
        "  loss_ax = plt.gca()                 # figure의 기본 축 가져오기\n",
        "  acc_ax = loss_ax.twinx()            # 축을 1개 더 추가\n",
        "\n",
        "  # 손실 변화 양상을 그래프로 표시\n",
        "  loss_ax.plot(hist.history['loss'], 'y', label='train loss')\n",
        "  loss_ax.plot(hist.history['val_loss'], 'r', label='val_loss')\n",
        "  loss_ax.set_xlabel('epoch')\n",
        "  loss_ax.set_ylabel('loss')\n",
        "  loss_ax.legend(loc='lower left')\n",
        "\n",
        "  # 정확도 변화 양상을 그래프로 표시\n",
        "  acc_ax.plot(hist.history['accuracy'], 'b', label='train acc')\n",
        "  acc_ax.plot(hist.history['val_accuracy'], 'g', label='val acc')\n",
        "  acc_ax.set_ylabel('accuracy')\n",
        "  acc_ax.legend(loc='upper left')\n",
        "\n",
        "  plt.show()"
      ],
      "metadata": {
        "id": "vYQZeFtMUHpV"
      },
      "execution_count": null,
      "outputs": []
    },
    {
      "cell_type": "code",
      "source": [
        "# 학습 경과를 그래프로 그림\n",
        "drawHistory(hist)"
      ],
      "metadata": {
        "colab": {
          "base_uri": "https://localhost:8080/",
          "height": 420
        },
        "id": "SBQunqizU5eD",
        "outputId": "af5f8a33-e929-4ffe-e438-d9b6d8d6f062"
      },
      "execution_count": null,
      "outputs": [
        {
          "output_type": "display_data",
          "data": {
            "text/plain": [
              "<Figure size 1500x1000 with 2 Axes>"
            ],
            "image/png": "[encoded data removed]"
          },
          "metadata": {}
        }
      ]
    },
    {
      "cell_type": "code",
      "source": [
        "o = model.predict(data_test_np)\n",
        "# test 데이터를 파라미터로 받아,\n",
        "# 해당 데이터에 대한 네트워크 출력을 반환\n",
        "\n",
        "# predict -> 정답이 없는 데이터의 결과를 예측함.\n",
        "\n",
        "# print(o) -> 실수형"
      ],
      "metadata": {
        "colab": {
          "base_uri": "https://localhost:8080/"
        },
        "id": "WSG1vY0cU7-d",
        "outputId": "2c29b2cc-baf6-4369-ecf7-566ee78d4d18"
      },
      "execution_count": null,
      "outputs": [
        {
          "output_type": "stream",
          "name": "stdout",
          "text": [
            "14/14 [==============================] - 0s 2ms/step\n"
          ]
        }
      ]
    },
    {
      "cell_type": "code",
      "source": [
        "o = np.argmax(o, -1) # 2차원이기 때문에 1, -1 상관 없음\n",
        "# 2개의 출력 노드 중, 큰 값이 있는 노드가 승객의 생존 여부(0,1) 나타냄"
      ],
      "metadata": {
        "id": "BSVs29rkVASr"
      },
      "execution_count": null,
      "outputs": []
    },
    {
      "cell_type": "code",
      "source": [
        "o\n",
        "# 0, 1로 바뀜"
      ],
      "metadata": {
        "colab": {
          "base_uri": "https://localhost:8080/"
        },
        "id": "4956FYLSfKqo",
        "outputId": "384e0004-72cd-4b08-8379-f17012e9df9b"
      },
      "execution_count": null,
      "outputs": [
        {
          "output_type": "execute_result",
          "data": {
            "text/plain": [
              "array([0, 0, 0, 0, 0, 0, 1, 0, 1, 0, 0, 0, 1, 0, 1, 1, 0, 0, 0, 1, 0, 0,\n",
              "       1, 0, 1, 0, 1, 0, 0, 0, 0, 0, 0, 0, 0, 0, 1, 1, 0, 0, 0, 0, 0, 1,\n",
              "       1, 0, 0, 0, 1, 0, 0, 0, 1, 1, 0, 0, 0, 0, 0, 1, 0, 0, 0, 1, 1, 1,\n",
              "       1, 0, 0, 1, 1, 0, 1, 0, 1, 0, 0, 1, 0, 1, 0, 0, 0, 0, 0, 0, 1, 1,\n",
              "       1, 1, 0, 0, 1, 0, 0, 0, 1, 0, 1, 0, 1, 0, 0, 0, 0, 0, 0, 0, 0, 0,\n",
              "       0, 1, 1, 1, 1, 0, 0, 1, 0, 1, 1, 0, 1, 0, 0, 1, 0, 0, 0, 0, 0, 0,\n",
              "       0, 0, 0, 0, 0, 0, 1, 0, 0, 1, 0, 0, 0, 0, 0, 0, 0, 0, 1, 0, 0, 0,\n",
              "       0, 0, 1, 1, 0, 1, 1, 0, 1, 0, 0, 0, 0, 0, 1, 1, 0, 0, 0, 0, 0, 1,\n",
              "       1, 0, 1, 1, 0, 0, 1, 0, 1, 0, 1, 0, 0, 0, 0, 0, 0, 0, 1, 0, 1, 1,\n",
              "       0, 1, 1, 0, 0, 1, 0, 0, 1, 0, 1, 0, 0, 0, 0, 1, 0, 0, 1, 0, 1, 0,\n",
              "       1, 0, 1, 0, 1, 0, 0, 1, 0, 0, 0, 1, 0, 0, 0, 0, 0, 0, 1, 1, 1, 1,\n",
              "       0, 0, 0, 0, 1, 0, 1, 0, 1, 0, 0, 0, 0, 0, 0, 0, 1, 0, 0, 0, 1, 1,\n",
              "       0, 0, 0, 0, 1, 0, 0, 0, 1, 0, 0, 1, 0, 0, 0, 0, 1, 0, 1, 1, 1, 0,\n",
              "       0, 0, 0, 0, 0, 1, 0, 0, 0, 0, 1, 0, 0, 0, 0, 0, 0, 0, 1, 1, 0, 0,\n",
              "       0, 0, 0, 0, 0, 1, 1, 1, 0, 0, 0, 0, 0, 0, 0, 0, 1, 0, 1, 0, 0, 0,\n",
              "       1, 0, 0, 0, 0, 0, 0, 0, 0, 0, 0, 0, 0, 1, 0, 1, 0, 1, 0, 1, 1, 0,\n",
              "       0, 0, 1, 0, 1, 0, 0, 0, 0, 1, 1, 0, 1, 1, 0, 1, 1, 0, 0, 1, 0, 0,\n",
              "       1, 1, 0, 0, 0, 0, 0, 0, 1, 0, 0, 1, 0, 0, 0, 0, 0, 1, 0, 0, 0, 1,\n",
              "       0, 1, 0, 0, 1, 0, 1, 0, 0, 0, 0, 0, 1, 1, 1, 1, 1, 0, 1, 0, 0, 0])"
            ]
          },
          "metadata": {},
          "execution_count": 49
        }
      ]
    },
    {
      "cell_type": "code",
      "source": [
        "answer = np.zeros([418,2]) # numpy 배열\n",
        "# 최종 제출할 파일\n",
        "# 첫 번째 열 : 승객ID\n",
        "answer[:,0] = data_test['PassengerId']\n",
        "# 두 번째 열 : 생존 여부\n",
        "answer[:,1] = o"
      ],
      "metadata": {
        "id": "_BdnsnKzVCrh"
      },
      "execution_count": null,
      "outputs": []
    },
    {
      "cell_type": "code",
      "source": [
        "#배열 answer를 DataFrame 형식으로 변환하고, df_frame 변수에 저장\n",
        "df_answer = pd.DataFrame(answer)\n",
        "df_answer.columns = ['PassengerId','Survived']  # 각 열의 제목을 지정\n",
        "df_answer = df_answer.astype('int32')           # 데이터를 정수형으로 바꿈\n",
        "# 결과를 csv 파일로 저장(index는 제외)\n",
        "df_answer.to_csv('test_predict.csv', index=False)"
      ],
      "metadata": {
        "id": "bs7nb9xUVLL2"
      },
      "execution_count": null,
      "outputs": []
    },
    {
      "cell_type": "code",
      "source": [
        "!kaggle competitions submit -c titanic -f 'test_predict.csv' -m \"0414_submission\""
      ],
      "metadata": {
        "colab": {
          "base_uri": "https://localhost:8080/"
        },
        "id": "5YEaKzsXVa7E",
        "outputId": "38f8df40-21e0-4e55-8f03-31b37aff4fdf"
      },
      "execution_count": null,
      "outputs": [
        {
          "output_type": "stream",
          "name": "stdout",
          "text": [
            "100% 2.77k/2.77k [00:00<00:00, 4.12kB/s]\n",
            "Successfully submitted to Titanic - Machine Learning from Disaster"
          ]
        }
      ]
    }
  ]
}